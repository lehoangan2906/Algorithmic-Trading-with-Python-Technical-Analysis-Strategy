{
  "nbformat": 4,
  "nbformat_minor": 0,
  "metadata": {
    "colab": {
      "provenance": []
    },
    "kernelspec": {
      "name": "python3",
      "display_name": "Python 3"
    },
    "language_info": {
      "name": "python"
    }
  },
  "cells": [
    {
      "cell_type": "markdown",
      "source": [
        "#Numpy"
      ],
      "metadata": {
        "id": "qR0-cD1SKvam"
      }
    },
    {
      "cell_type": "markdown",
      "source": [
        "# Numpy table creation"
      ],
      "metadata": {
        "id": "XUsvSzk0Kzop"
      }
    },
    {
      "cell_type": "code",
      "execution_count": null,
      "metadata": {
        "id": "H-K1KUrUKq9G"
      },
      "outputs": [],
      "source": [
        "import numpy as np"
      ]
    },
    {
      "cell_type": "code",
      "source": [
        "# 1D array\n",
        "arr = np.array([1, 2, 3, 4])\n",
        "arr"
      ],
      "metadata": {
        "colab": {
          "base_uri": "https://localhost:8080/"
        },
        "id": "HSJp3rG4K8hZ",
        "outputId": "2f162373-661a-4cfa-aca9-7e230a8a2a43"
      },
      "execution_count": null,
      "outputs": [
        {
          "output_type": "execute_result",
          "data": {
            "text/plain": [
              "array([1, 2, 3, 4])"
            ]
          },
          "metadata": {},
          "execution_count": 2
        }
      ]
    },
    {
      "cell_type": "code",
      "source": [
        "# Linspace function (create an array in a given range with given step/ can create real values)\n",
        "np.linspace(0, 50, 51)"
      ],
      "metadata": {
        "colab": {
          "base_uri": "https://localhost:8080/"
        },
        "id": "KfXxIt37LIqB",
        "outputId": "ef8b24fa-b996-479f-afd4-5b8dce75cf14"
      },
      "execution_count": null,
      "outputs": [
        {
          "output_type": "execute_result",
          "data": {
            "text/plain": [
              "array([ 0.,  1.,  2.,  3.,  4.,  5.,  6.,  7.,  8.,  9., 10., 11., 12.,\n",
              "       13., 14., 15., 16., 17., 18., 19., 20., 21., 22., 23., 24., 25.,\n",
              "       26., 27., 28., 29., 30., 31., 32., 33., 34., 35., 36., 37., 38.,\n",
              "       39., 40., 41., 42., 43., 44., 45., 46., 47., 48., 49., 50.])"
            ]
          },
          "metadata": {},
          "execution_count": 3
        }
      ]
    },
    {
      "cell_type": "code",
      "source": [
        "# Arrange function (create an array in a given range / can only create integer numbers)\n",
        "np.arange(0, 50)"
      ],
      "metadata": {
        "colab": {
          "base_uri": "https://localhost:8080/"
        },
        "id": "0m7ULEBGLN-0",
        "outputId": "3902571e-b682-4f34-f16d-df0724d0e9e5"
      },
      "execution_count": null,
      "outputs": [
        {
          "output_type": "execute_result",
          "data": {
            "text/plain": [
              "array([ 0,  1,  2,  3,  4,  5,  6,  7,  8,  9, 10, 11, 12, 13, 14, 15, 16,\n",
              "       17, 18, 19, 20, 21, 22, 23, 24, 25, 26, 27, 28, 29, 30, 31, 32, 33,\n",
              "       34, 35, 36, 37, 38, 39, 40, 41, 42, 43, 44, 45, 46, 47, 48, 49])"
            ]
          },
          "metadata": {},
          "execution_count": 6
        }
      ]
    },
    {
      "cell_type": "code",
      "source": [
        "# 2D array\n",
        "arr_bis = np.array([[1, 2, 3], [4, 5, 6], [7, 8, 9]])\n",
        "arr_bis"
      ],
      "metadata": {
        "colab": {
          "base_uri": "https://localhost:8080/"
        },
        "id": "I1Q1pIfULzXR",
        "outputId": "80f1ab2a-0dd8-480f-d8ca-be9c9743d2a7"
      },
      "execution_count": null,
      "outputs": [
        {
          "output_type": "execute_result",
          "data": {
            "text/plain": [
              "array([[1, 2, 3],\n",
              "       [4, 5, 6],\n",
              "       [7, 8, 9]])"
            ]
          },
          "metadata": {},
          "execution_count": 8
        }
      ]
    },
    {
      "cell_type": "code",
      "source": [
        "# Null matrix\n",
        "o = np.zeros([3, 5])\n",
        "o"
      ],
      "metadata": {
        "colab": {
          "base_uri": "https://localhost:8080/"
        },
        "id": "1EKHKO0HMESy",
        "outputId": "27c308e5-3405-4359-90b5-ddbe0b28111c"
      },
      "execution_count": null,
      "outputs": [
        {
          "output_type": "execute_result",
          "data": {
            "text/plain": [
              "array([[0., 0., 0., 0., 0.],\n",
              "       [0., 0., 0., 0., 0.],\n",
              "       [0., 0., 0., 0., 0.]])"
            ]
          },
          "metadata": {},
          "execution_count": 16
        }
      ]
    },
    {
      "cell_type": "code",
      "source": [
        "# Identity matrix\n",
        "I = np.identity(5)\n",
        "I"
      ],
      "metadata": {
        "colab": {
          "base_uri": "https://localhost:8080/"
        },
        "id": "bY5wD-ZWMH3v",
        "outputId": "86922f9e-5762-4052-92d5-1b6eb92e89b9"
      },
      "execution_count": null,
      "outputs": [
        {
          "output_type": "execute_result",
          "data": {
            "text/plain": [
              "array([[1., 0., 0., 0., 0.],\n",
              "       [0., 1., 0., 0., 0.],\n",
              "       [0., 0., 1., 0., 0.],\n",
              "       [0., 0., 0., 1., 0.],\n",
              "       [0., 0., 0., 0., 1.]])"
            ]
          },
          "metadata": {},
          "execution_count": 18
        }
      ]
    },
    {
      "cell_type": "code",
      "source": [
        "# Ones matrix\n",
        "One = np.ones([3, 5])\n",
        "One"
      ],
      "metadata": {
        "colab": {
          "base_uri": "https://localhost:8080/"
        },
        "id": "u9LQcx_lMJOS",
        "outputId": "9d552f17-e313-4175-dbb1-78b2d976b79e"
      },
      "execution_count": null,
      "outputs": [
        {
          "output_type": "execute_result",
          "data": {
            "text/plain": [
              "array([[1., 1., 1., 1., 1.],\n",
              "       [1., 1., 1., 1., 1.],\n",
              "       [1., 1., 1., 1., 1.]])"
            ]
          },
          "metadata": {},
          "execution_count": 20
        }
      ]
    },
    {
      "cell_type": "code",
      "source": [
        "# Add to matrix\n",
        "# Two matrices must have the same shape\n",
        "o + One"
      ],
      "metadata": {
        "colab": {
          "base_uri": "https://localhost:8080/"
        },
        "id": "jF0a6O5AMKJT",
        "outputId": "76935bd1-f380-4338-e455-aec1bc8b19fc"
      },
      "execution_count": null,
      "outputs": [
        {
          "output_type": "execute_result",
          "data": {
            "text/plain": [
              "array([[1., 1., 1., 1., 1.],\n",
              "       [1., 1., 1., 1., 1.],\n",
              "       [1., 1., 1., 1., 1.]])"
            ]
          },
          "metadata": {},
          "execution_count": 22
        }
      ]
    },
    {
      "cell_type": "code",
      "source": [
        "# Subtract two matrices \n",
        "o - One"
      ],
      "metadata": {
        "colab": {
          "base_uri": "https://localhost:8080/"
        },
        "id": "TuS7pH-oMLd5",
        "outputId": "d31bc468-c7f4-46d2-f7dd-7300fcd6cd13"
      },
      "execution_count": null,
      "outputs": [
        {
          "output_type": "execute_result",
          "data": {
            "text/plain": [
              "array([[-1., -1., -1., -1., -1.],\n",
              "       [-1., -1., -1., -1., -1.],\n",
              "       [-1., -1., -1., -1., -1.]])"
            ]
          },
          "metadata": {},
          "execution_count": 23
        }
      ]
    },
    {
      "cell_type": "code",
      "source": [
        "# Scalar Multiplication\n",
        "I * 5"
      ],
      "metadata": {
        "colab": {
          "base_uri": "https://localhost:8080/"
        },
        "id": "avwjjlgBMPCv",
        "outputId": "ecf87aa1-818e-48cd-d0ed-875c6599b4b6"
      },
      "execution_count": null,
      "outputs": [
        {
          "output_type": "execute_result",
          "data": {
            "text/plain": [
              "array([[5., 0., 0., 0., 0.],\n",
              "       [0., 5., 0., 0., 0.],\n",
              "       [0., 0., 5., 0., 0.],\n",
              "       [0., 0., 0., 5., 0.],\n",
              "       [0., 0., 0., 0., 5.]])"
            ]
          },
          "metadata": {},
          "execution_count": 24
        }
      ]
    },
    {
      "cell_type": "markdown",
      "source": [
        "# Random"
      ],
      "metadata": {
        "id": "vJBOCKzAc8wE"
      }
    },
    {
      "cell_type": "code",
      "source": [
        "# Random 1d array in the value 0 and 1 (Ideal to simulate a ramdom weight of a wallet for example)\n",
        "ran = np.random.rand(6)\n",
        "ran"
      ],
      "metadata": {
        "colab": {
          "base_uri": "https://localhost:8080/"
        },
        "id": "yRrZgOCWND5k",
        "outputId": "fde6b275-c390-488a-9530-5c67c05e794c"
      },
      "execution_count": null,
      "outputs": [
        {
          "output_type": "execute_result",
          "data": {
            "text/plain": [
              "array([0.68714843, 0.69586839, 0.53177033, 0.30941226, 0.2230142 ,\n",
              "       0.10709017])"
            ]
          },
          "metadata": {},
          "execution_count": 29
        }
      ]
    },
    {
      "cell_type": "code",
      "source": [
        "# Bonus: How to find the shape of a array and transform 1d array to 2d array\n",
        "print(f\"Shape is {np.shape(ran)}\")\n",
        "\n",
        "# Reshape\n",
        "ran = ran.reshape(6, 1)\n",
        "\n",
        "# New shape\n",
        "print(f\"Shape is {np.shape(ran)}\")"
      ],
      "metadata": {
        "colab": {
          "base_uri": "https://localhost:8080/"
        },
        "id": "Lqs02PY1diZ7",
        "outputId": "02e26ad4-62b3-4b93-df7a-2cad28dacb31"
      },
      "execution_count": null,
      "outputs": [
        {
          "output_type": "stream",
          "name": "stdout",
          "text": [
            "Shape is (6,)\n",
            "Shape is (6, 1)\n"
          ]
        }
      ]
    },
    {
      "cell_type": "code",
      "source": [
        "# Random integer value\n",
        "arr_int = np.random.randint(0, 100, size = (5, 5))\n",
        "arr_int"
      ],
      "metadata": {
        "colab": {
          "base_uri": "https://localhost:8080/"
        },
        "id": "sC0hgGy6dzwI",
        "outputId": "8f293a9b-8ad9-4520-b6f8-6e43837d813d"
      },
      "execution_count": null,
      "outputs": [
        {
          "output_type": "execute_result",
          "data": {
            "text/plain": [
              "array([[40, 45, 42, 93, 64],\n",
              "       [36, 44, 83, 50,  9],\n",
              "       [67, 52, 63,  4, 66],\n",
              "       [50, 91, 96, 83, 71],\n",
              "       [ 0, 53, 63,  1, 59]])"
            ]
          },
          "metadata": {},
          "execution_count": 37
        }
      ]
    },
    {
      "cell_type": "code",
      "source": [
        "# Normal 1 dim\n",
        "np.random.rand(3)"
      ],
      "metadata": {
        "colab": {
          "base_uri": "https://localhost:8080/"
        },
        "id": "_ZI5mbYjeNGQ",
        "outputId": "594136ba-a7a9-4401-d588-7a36d00b5580"
      },
      "execution_count": null,
      "outputs": [
        {
          "output_type": "execute_result",
          "data": {
            "text/plain": [
              "array([0.25643738, 0.73540624, 0.39592117])"
            ]
          },
          "metadata": {},
          "execution_count": 39
        }
      ]
    },
    {
      "cell_type": "code",
      "source": [
        "# Normal 2 dim\n",
        "np.random.rand(3, 3)"
      ],
      "metadata": {
        "colab": {
          "base_uri": "https://localhost:8080/"
        },
        "id": "5VbKUNlSe_k7",
        "outputId": "2f5c1f24-117d-44ee-8562-7bddc75c8ad5"
      },
      "execution_count": null,
      "outputs": [
        {
          "output_type": "execute_result",
          "data": {
            "text/plain": [
              "array([[0.48637545, 0.67258914, 0.59330929],\n",
              "       [0.07604654, 0.91602952, 0.22584485],\n",
              "       [0.98077009, 0.64148927, 0.71858142]])"
            ]
          },
          "metadata": {},
          "execution_count": 40
        }
      ]
    },
    {
      "cell_type": "code",
      "source": [
        "# Set the seed\n",
        "print(np.random.rand(3))\n",
        "print(np.random.rand(3))\n",
        "\n",
        "np.random.seed(seed = 32)\n",
        "print(np.random.rand(3))\n",
        "\n",
        "np.random.seed(seed = 32)\n",
        "print(np.random.rand(3))"
      ],
      "metadata": {
        "colab": {
          "base_uri": "https://localhost:8080/"
        },
        "id": "lfHobuhXeOhr",
        "outputId": "c33dd8ed-4f7f-4d8a-eb89-9e17308d2947"
      },
      "execution_count": null,
      "outputs": [
        {
          "output_type": "stream",
          "name": "stdout",
          "text": [
            "[0.10108656 0.92848807 0.60910917]\n",
            "[0.59655344 0.09178413 0.34518624]\n",
            "[0.85888927 0.37271115 0.55512878]\n",
            "[0.85888927 0.37271115 0.55512878]\n"
          ]
        }
      ]
    },
    {
      "cell_type": "markdown",
      "source": [
        "# Indexing Slicing Transformation"
      ],
      "metadata": {
        "id": "RTS8NOBKfbqq"
      }
    },
    {
      "cell_type": "code",
      "source": [
        "# Choose one value in a matrix\n",
        "arr_bis = np.array([[1, 2, 3],\n",
        "                    [7, 1, 6],\n",
        "                    [9, 6, 3]])\n",
        "\n",
        "arr_bis[0][0]"
      ],
      "metadata": {
        "colab": {
          "base_uri": "https://localhost:8080/"
        },
        "id": "cr6HtlOIePvB",
        "outputId": "e89e56a7-ecc0-45a1-e53e-8ee04ef85da5"
      },
      "execution_count": null,
      "outputs": [
        {
          "output_type": "execute_result",
          "data": {
            "text/plain": [
              "1"
            ]
          },
          "metadata": {},
          "execution_count": 54
        }
      ]
    },
    {
      "cell_type": "code",
      "source": [
        "# Choose sub matrix in the matrix\n",
        "arr_bis[0:2, 0:3]"
      ],
      "metadata": {
        "colab": {
          "base_uri": "https://localhost:8080/"
        },
        "id": "MogWzlmpflur",
        "outputId": "7d8e63cc-d219-4ca1-eae7-438b055cacb3"
      },
      "execution_count": null,
      "outputs": [
        {
          "output_type": "execute_result",
          "data": {
            "text/plain": [
              "array([[1, 2, 3],\n",
              "       [7, 1, 6]])"
            ]
          },
          "metadata": {},
          "execution_count": 55
        }
      ]
    },
    {
      "cell_type": "code",
      "source": [
        "# Choose one columns or one row\n",
        "print(arr_bis[1, :])\n",
        "print(arr_bis[:, 1])"
      ],
      "metadata": {
        "colab": {
          "base_uri": "https://localhost:8080/"
        },
        "id": "wKN8g8IBfoLB",
        "outputId": "729baf86-8e91-4e48-d194-8de615febc2d"
      },
      "execution_count": null,
      "outputs": [
        {
          "output_type": "stream",
          "name": "stdout",
          "text": [
            "[7 1 6]\n",
            "[2 1 6]\n"
          ]
        }
      ]
    },
    {
      "cell_type": "code",
      "source": [
        "# Max\n",
        "# On the matrix\n",
        "print(arr_bis.max())\n",
        "\n",
        "# By the rows\n",
        "print(arr_bis.max(axis = 1))\n",
        "\n",
        "# By the columns\n",
        "print(arr_bis.max(axis = 0))"
      ],
      "metadata": {
        "colab": {
          "base_uri": "https://localhost:8080/"
        },
        "id": "VqLPvmn0fqK-",
        "outputId": "59d5eb4e-251e-4c86-cee5-b3099a096e09"
      },
      "execution_count": null,
      "outputs": [
        {
          "output_type": "stream",
          "name": "stdout",
          "text": [
            "9\n",
            "[3 7 9]\n",
            "[9 6 6]\n"
          ]
        }
      ]
    },
    {
      "cell_type": "code",
      "source": [
        "# Min\n",
        "# On the matrix\n",
        "print(arr_bis.min())\n",
        "\n",
        "# By the rows\n",
        "print(arr_bis.min(axis = 1))\n",
        "\n",
        "# By the columns\n",
        "print(arr_bis.min(axis = 0))"
      ],
      "metadata": {
        "colab": {
          "base_uri": "https://localhost:8080/"
        },
        "id": "lnR5er4dfyQP",
        "outputId": "656f93c1-d84c-4b23-9000-080dcb9a3f65"
      },
      "execution_count": null,
      "outputs": [
        {
          "output_type": "stream",
          "name": "stdout",
          "text": [
            "1\n",
            "[1 1 3]\n",
            "[1 1 3]\n"
          ]
        }
      ]
    },
    {
      "cell_type": "code",
      "source": [
        "# Mean\n",
        "# On the matrix\n",
        "print(arr_bis.mean())\n",
        "\n",
        "# By the rows\n",
        "print(arr_bis.mean(axis = 1))\n",
        "\n",
        "# By the columns\n",
        "print(arr_bis.mean(axis = 0))\n"
      ],
      "metadata": {
        "colab": {
          "base_uri": "https://localhost:8080/"
        },
        "id": "eXcLDho9f0_x",
        "outputId": "7fcb47fd-1cde-4d90-c542-31fc1082136f"
      },
      "execution_count": null,
      "outputs": [
        {
          "output_type": "stream",
          "name": "stdout",
          "text": [
            "4.222222222222222\n",
            "[2.         4.66666667 6.        ]\n",
            "[5.66666667 3.         4.        ]\n"
          ]
        }
      ]
    },
    {
      "cell_type": "code",
      "source": [
        "# Std\n",
        "# On the matrix\n",
        "print(arr_bis.std())\n",
        "\n",
        "# By the rows\n",
        "print(arr_bis.std(axis = 1))\n",
        "\n",
        "# By the columns\n",
        "print(arr_bis.std(axis = 0))\n"
      ],
      "metadata": {
        "colab": {
          "base_uri": "https://localhost:8080/"
        },
        "id": "lPTwzFOqg0Z2",
        "outputId": "f10593af-6471-4076-e519-9a3af54d7744"
      },
      "execution_count": null,
      "outputs": [
        {
          "output_type": "stream",
          "name": "stdout",
          "text": [
            "2.698879511442471\n",
            "[0.81649658 2.62466929 2.44948974]\n",
            "[3.39934634 2.1602469  1.41421356]\n"
          ]
        }
      ]
    },
    {
      "cell_type": "code",
      "source": [
        "# Other way available\n",
        "np.max(arr_bis, axis = 1)"
      ],
      "metadata": {
        "colab": {
          "base_uri": "https://localhost:8080/"
        },
        "id": "eFK0N3AMg4rE",
        "outputId": "5fc4002f-be0b-49c9-ba04-552511890a64"
      },
      "execution_count": null,
      "outputs": [
        {
          "output_type": "execute_result",
          "data": {
            "text/plain": [
              "array([3, 7, 9])"
            ]
          },
          "metadata": {},
          "execution_count": 64
        }
      ]
    },
    {
      "cell_type": "code",
      "source": [
        "# Log function\n",
        "np.log(arr_bis)"
      ],
      "metadata": {
        "colab": {
          "base_uri": "https://localhost:8080/"
        },
        "id": "MFchrgBihWDD",
        "outputId": "f1a74adf-9b88-4bf3-f64a-2333c7d810d1"
      },
      "execution_count": null,
      "outputs": [
        {
          "output_type": "execute_result",
          "data": {
            "text/plain": [
              "array([[0.        , 0.69314718, 1.09861229],\n",
              "       [1.94591015, 0.        , 1.79175947],\n",
              "       [2.19722458, 1.79175947, 1.09861229]])"
            ]
          },
          "metadata": {},
          "execution_count": 65
        }
      ]
    },
    {
      "cell_type": "code",
      "source": [
        "# Exponential function\n",
        "np.exp(arr_bis)"
      ],
      "metadata": {
        "colab": {
          "base_uri": "https://localhost:8080/"
        },
        "id": "JK-nlMrmhd1T",
        "outputId": "cf4e5e9a-8fd9-4d1d-f6d4-7b768e23872d"
      },
      "execution_count": null,
      "outputs": [
        {
          "output_type": "execute_result",
          "data": {
            "text/plain": [
              "array([[2.71828183e+00, 7.38905610e+00, 2.00855369e+01],\n",
              "       [1.09663316e+03, 2.71828183e+00, 4.03428793e+02],\n",
              "       [8.10308393e+03, 4.03428793e+02, 2.00855369e+01]])"
            ]
          },
          "metadata": {},
          "execution_count": 66
        }
      ]
    },
    {
      "cell_type": "code",
      "source": [
        "# Squared root function\n",
        "np.sqrt(arr_bis)"
      ],
      "metadata": {
        "colab": {
          "base_uri": "https://localhost:8080/"
        },
        "id": "J-d85R3VhmMI",
        "outputId": "962736d7-766f-420d-b4c9-91b1c6e0e299"
      },
      "execution_count": null,
      "outputs": [
        {
          "output_type": "execute_result",
          "data": {
            "text/plain": [
              "array([[1.        , 1.41421356, 1.73205081],\n",
              "       [2.64575131, 1.        , 2.44948974],\n",
              "       [3.        , 2.44948974, 1.73205081]])"
            ]
          },
          "metadata": {},
          "execution_count": 70
        }
      ]
    },
    {
      "cell_type": "code",
      "source": [
        "# Concatenate\n",
        "# Params: tuple of arrays and the axis of the concatenation\n",
        "# Concat 1 dimension\n",
        "arr1 = arr_bis[:, 1]\n",
        "arr2 = arr_bis[:, 2]\n",
        "\n",
        "print(f\"ARR1 {arr1}\")\n",
        "print(f\"ARR2 {arr2}\")\n",
        "print(np.concatenate((arr1, arr2), axis = 0))"
      ],
      "metadata": {
        "colab": {
          "base_uri": "https://localhost:8080/"
        },
        "id": "pz7JfPhjhqXa",
        "outputId": "3cfe9de1-ba1d-4530-d48a-be872b0c50c0"
      },
      "execution_count": null,
      "outputs": [
        {
          "output_type": "stream",
          "name": "stdout",
          "text": [
            "ARR1 [2 1 6]\n",
            "ARR2 [3 6 3]\n",
            "[2 1 6 3 6 3]\n"
          ]
        }
      ]
    },
    {
      "cell_type": "code",
      "source": [
        "# Concatenate 2 dimension\n",
        "arr1 = arr_bis[:, 1].reshape(-1, 1)\n",
        "arr2 = arr_bis[:, 2].reshape(-1, 1)\n",
        "\n",
        "print(f\"ARR1 {arr1}\")\n",
        "print(f\"ARR2 {arr2}\")\n",
        "print(np.concatenate((arr1, arr2), axis = 1))"
      ],
      "metadata": {
        "colab": {
          "base_uri": "https://localhost:8080/"
        },
        "id": "05GH6bE0hw5A",
        "outputId": "7ab6f9ee-b956-4cc4-d1d7-f081395844b6"
      },
      "execution_count": null,
      "outputs": [
        {
          "output_type": "stream",
          "name": "stdout",
          "text": [
            "ARR1 [[2]\n",
            " [1]\n",
            " [6]]\n",
            "ARR2 [[3]\n",
            " [6]\n",
            " [3]]\n",
            "[[2 3]\n",
            " [1 6]\n",
            " [6 3]]\n"
          ]
        }
      ]
    },
    {
      "cell_type": "code",
      "source": [
        "# Concatenate 2 dimension\n",
        "print(np.concatenate((arr1, arr2), axis = 0))"
      ],
      "metadata": {
        "colab": {
          "base_uri": "https://localhost:8080/"
        },
        "id": "l4byWj-2hzEh",
        "outputId": "221742e6-5312-4deb-b786-8846617489a7"
      },
      "execution_count": null,
      "outputs": [
        {
          "output_type": "stream",
          "name": "stdout",
          "text": [
            "[[2]\n",
            " [1]\n",
            " [6]\n",
            " [3]\n",
            " [6]\n",
            " [3]]\n"
          ]
        }
      ]
    },
    {
      "cell_type": "code",
      "source": [],
      "metadata": {
        "id": "HOAcnKw0if_I"
      },
      "execution_count": null,
      "outputs": []
    },
    {
      "cell_type": "markdown",
      "source": [
        "# Pandas"
      ],
      "metadata": {
        "id": "c_h1f1SAi351"
      }
    },
    {
      "cell_type": "code",
      "source": [
        "import pandas as pd\n",
        "import numpy as np"
      ],
      "metadata": {
        "id": "mEaq8AL_i6fR"
      },
      "execution_count": null,
      "outputs": []
    },
    {
      "cell_type": "markdown",
      "source": [
        "# Series and dataframes"
      ],
      "metadata": {
        "id": "-jqm2eMai_Fb"
      }
    },
    {
      "cell_type": "markdown",
      "source": [
        "# Series"
      ],
      "metadata": {
        "id": "UigXWeBCjDLa"
      }
    },
    {
      "cell_type": "code",
      "source": [
        "labels = [\"label1\", \"label2\", \"label3\"]\n",
        "list_values = [1, 2, 3]\n",
        "arr_values = np.array([1, 2, 3])"
      ],
      "metadata": {
        "id": "DjRC0zNBi9iS"
      },
      "execution_count": null,
      "outputs": []
    },
    {
      "cell_type": "code",
      "source": [
        "# Create a series from a list\n",
        "pd.Series(list_values, index = labels)"
      ],
      "metadata": {
        "colab": {
          "base_uri": "https://localhost:8080/"
        },
        "id": "lmkikjH7mn05",
        "outputId": "46787ff8-2ac7-4e24-9dac-a967b501928f"
      },
      "execution_count": null,
      "outputs": [
        {
          "output_type": "execute_result",
          "data": {
            "text/plain": [
              "label1    1\n",
              "label2    2\n",
              "label3    3\n",
              "dtype: int64"
            ]
          },
          "metadata": {},
          "execution_count": 79
        }
      ]
    },
    {
      "cell_type": "code",
      "source": [
        "# Create a series from an array\n",
        "pd.Series(arr_values, index = labels)"
      ],
      "metadata": {
        "colab": {
          "base_uri": "https://localhost:8080/"
        },
        "id": "CB_-a_4vmt0X",
        "outputId": "7df2fe73-184f-4c13-fc14-fbbf2e451093"
      },
      "execution_count": null,
      "outputs": [
        {
          "output_type": "execute_result",
          "data": {
            "text/plain": [
              "label1    1\n",
              "label2    2\n",
              "label3    3\n",
              "dtype: int64"
            ]
          },
          "metadata": {},
          "execution_count": 80
        }
      ]
    },
    {
      "cell_type": "markdown",
      "source": [
        "# Dataframes"
      ],
      "metadata": {
        "id": "HL4XwpcIm60P"
      }
    },
    {
      "cell_type": "code",
      "source": [
        "list_columns = [\"col_1\", \"col_2\", \"col_3\"]\n",
        "list_index = [\"row_1\", \"row_2\", \"row_3\"]\n",
        "arr_bis = np.array([[1, 2, 3],\n",
        "                    [7, 1, 6],\n",
        "                    [9, 6, 3]])"
      ],
      "metadata": {
        "id": "t12EQcppm4JF"
      },
      "execution_count": null,
      "outputs": []
    },
    {
      "cell_type": "code",
      "source": [
        "# Create a dataframe from an array\n",
        "pd.DataFrame(arr_bis)"
      ],
      "metadata": {
        "colab": {
          "base_uri": "https://localhost:8080/",
          "height": 143
        },
        "id": "QRbxUgM-pFx2",
        "outputId": "c919ea3a-49ed-486f-dcec-cbbe75f498b6"
      },
      "execution_count": null,
      "outputs": [
        {
          "output_type": "execute_result",
          "data": {
            "text/plain": [
              "   0  1  2\n",
              "0  1  2  3\n",
              "1  7  1  6\n",
              "2  9  6  3"
            ],
            "text/html": [
              "\n",
              "  <div id=\"df-8379b531-c91a-464f-83e6-7d942b705193\">\n",
              "    <div class=\"colab-df-container\">\n",
              "      <div>\n",
              "<style scoped>\n",
              "    .dataframe tbody tr th:only-of-type {\n",
              "        vertical-align: middle;\n",
              "    }\n",
              "\n",
              "    .dataframe tbody tr th {\n",
              "        vertical-align: top;\n",
              "    }\n",
              "\n",
              "    .dataframe thead th {\n",
              "        text-align: right;\n",
              "    }\n",
              "</style>\n",
              "<table border=\"1\" class=\"dataframe\">\n",
              "  <thead>\n",
              "    <tr style=\"text-align: right;\">\n",
              "      <th></th>\n",
              "      <th>0</th>\n",
              "      <th>1</th>\n",
              "      <th>2</th>\n",
              "    </tr>\n",
              "  </thead>\n",
              "  <tbody>\n",
              "    <tr>\n",
              "      <th>0</th>\n",
              "      <td>1</td>\n",
              "      <td>2</td>\n",
              "      <td>3</td>\n",
              "    </tr>\n",
              "    <tr>\n",
              "      <th>1</th>\n",
              "      <td>7</td>\n",
              "      <td>1</td>\n",
              "      <td>6</td>\n",
              "    </tr>\n",
              "    <tr>\n",
              "      <th>2</th>\n",
              "      <td>9</td>\n",
              "      <td>6</td>\n",
              "      <td>3</td>\n",
              "    </tr>\n",
              "  </tbody>\n",
              "</table>\n",
              "</div>\n",
              "      <button class=\"colab-df-convert\" onclick=\"convertToInteractive('df-8379b531-c91a-464f-83e6-7d942b705193')\"\n",
              "              title=\"Convert this dataframe to an interactive table.\"\n",
              "              style=\"display:none;\">\n",
              "        \n",
              "  <svg xmlns=\"http://www.w3.org/2000/svg\" height=\"24px\"viewBox=\"0 0 24 24\"\n",
              "       width=\"24px\">\n",
              "    <path d=\"M0 0h24v24H0V0z\" fill=\"none\"/>\n",
              "    <path d=\"M18.56 5.44l.94 2.06.94-2.06 2.06-.94-2.06-.94-.94-2.06-.94 2.06-2.06.94zm-11 1L8.5 8.5l.94-2.06 2.06-.94-2.06-.94L8.5 2.5l-.94 2.06-2.06.94zm10 10l.94 2.06.94-2.06 2.06-.94-2.06-.94-.94-2.06-.94 2.06-2.06.94z\"/><path d=\"M17.41 7.96l-1.37-1.37c-.4-.4-.92-.59-1.43-.59-.52 0-1.04.2-1.43.59L10.3 9.45l-7.72 7.72c-.78.78-.78 2.05 0 2.83L4 21.41c.39.39.9.59 1.41.59.51 0 1.02-.2 1.41-.59l7.78-7.78 2.81-2.81c.8-.78.8-2.07 0-2.86zM5.41 20L4 18.59l7.72-7.72 1.47 1.35L5.41 20z\"/>\n",
              "  </svg>\n",
              "      </button>\n",
              "      \n",
              "  <style>\n",
              "    .colab-df-container {\n",
              "      display:flex;\n",
              "      flex-wrap:wrap;\n",
              "      gap: 12px;\n",
              "    }\n",
              "\n",
              "    .colab-df-convert {\n",
              "      background-color: #E8F0FE;\n",
              "      border: none;\n",
              "      border-radius: 50%;\n",
              "      cursor: pointer;\n",
              "      display: none;\n",
              "      fill: #1967D2;\n",
              "      height: 32px;\n",
              "      padding: 0 0 0 0;\n",
              "      width: 32px;\n",
              "    }\n",
              "\n",
              "    .colab-df-convert:hover {\n",
              "      background-color: #E2EBFA;\n",
              "      box-shadow: 0px 1px 2px rgba(60, 64, 67, 0.3), 0px 1px 3px 1px rgba(60, 64, 67, 0.15);\n",
              "      fill: #174EA6;\n",
              "    }\n",
              "\n",
              "    [theme=dark] .colab-df-convert {\n",
              "      background-color: #3B4455;\n",
              "      fill: #D2E3FC;\n",
              "    }\n",
              "\n",
              "    [theme=dark] .colab-df-convert:hover {\n",
              "      background-color: #434B5C;\n",
              "      box-shadow: 0px 1px 3px 1px rgba(0, 0, 0, 0.15);\n",
              "      filter: drop-shadow(0px 1px 2px rgba(0, 0, 0, 0.3));\n",
              "      fill: #FFFFFF;\n",
              "    }\n",
              "  </style>\n",
              "\n",
              "      <script>\n",
              "        const buttonEl =\n",
              "          document.querySelector('#df-8379b531-c91a-464f-83e6-7d942b705193 button.colab-df-convert');\n",
              "        buttonEl.style.display =\n",
              "          google.colab.kernel.accessAllowed ? 'block' : 'none';\n",
              "\n",
              "        async function convertToInteractive(key) {\n",
              "          const element = document.querySelector('#df-8379b531-c91a-464f-83e6-7d942b705193');\n",
              "          const dataTable =\n",
              "            await google.colab.kernel.invokeFunction('convertToInteractive',\n",
              "                                                     [key], {});\n",
              "          if (!dataTable) return;\n",
              "\n",
              "          const docLinkHtml = 'Like what you see? Visit the ' +\n",
              "            '<a target=\"_blank\" href=https://colab.research.google.com/notebooks/data_table.ipynb>data table notebook</a>'\n",
              "            + ' to learn more about interactive tables.';\n",
              "          element.innerHTML = '';\n",
              "          dataTable['output_type'] = 'display_data';\n",
              "          await google.colab.output.renderOutput(dataTable, element);\n",
              "          const docLink = document.createElement('div');\n",
              "          docLink.innerHTML = docLinkHtml;\n",
              "          element.appendChild(docLink);\n",
              "        }\n",
              "      </script>\n",
              "    </div>\n",
              "  </div>\n",
              "  "
            ]
          },
          "metadata": {},
          "execution_count": 82
        }
      ]
    },
    {
      "cell_type": "code",
      "source": [
        "# Specify rows/columns\n",
        "pd.DataFrame(arr_bis, index = list_index)"
      ],
      "metadata": {
        "colab": {
          "base_uri": "https://localhost:8080/",
          "height": 143
        },
        "id": "-TuFADjDpQ_B",
        "outputId": "5d64a77d-cb1f-459d-9afa-c2189b7d38ce"
      },
      "execution_count": null,
      "outputs": [
        {
          "output_type": "execute_result",
          "data": {
            "text/plain": [
              "       0  1  2\n",
              "row_1  1  2  3\n",
              "row_2  7  1  6\n",
              "row_3  9  6  3"
            ],
            "text/html": [
              "\n",
              "  <div id=\"df-cd53a065-c2c3-4fed-bebb-2aeb093ec873\">\n",
              "    <div class=\"colab-df-container\">\n",
              "      <div>\n",
              "<style scoped>\n",
              "    .dataframe tbody tr th:only-of-type {\n",
              "        vertical-align: middle;\n",
              "    }\n",
              "\n",
              "    .dataframe tbody tr th {\n",
              "        vertical-align: top;\n",
              "    }\n",
              "\n",
              "    .dataframe thead th {\n",
              "        text-align: right;\n",
              "    }\n",
              "</style>\n",
              "<table border=\"1\" class=\"dataframe\">\n",
              "  <thead>\n",
              "    <tr style=\"text-align: right;\">\n",
              "      <th></th>\n",
              "      <th>0</th>\n",
              "      <th>1</th>\n",
              "      <th>2</th>\n",
              "    </tr>\n",
              "  </thead>\n",
              "  <tbody>\n",
              "    <tr>\n",
              "      <th>row_1</th>\n",
              "      <td>1</td>\n",
              "      <td>2</td>\n",
              "      <td>3</td>\n",
              "    </tr>\n",
              "    <tr>\n",
              "      <th>row_2</th>\n",
              "      <td>7</td>\n",
              "      <td>1</td>\n",
              "      <td>6</td>\n",
              "    </tr>\n",
              "    <tr>\n",
              "      <th>row_3</th>\n",
              "      <td>9</td>\n",
              "      <td>6</td>\n",
              "      <td>3</td>\n",
              "    </tr>\n",
              "  </tbody>\n",
              "</table>\n",
              "</div>\n",
              "      <button class=\"colab-df-convert\" onclick=\"convertToInteractive('df-cd53a065-c2c3-4fed-bebb-2aeb093ec873')\"\n",
              "              title=\"Convert this dataframe to an interactive table.\"\n",
              "              style=\"display:none;\">\n",
              "        \n",
              "  <svg xmlns=\"http://www.w3.org/2000/svg\" height=\"24px\"viewBox=\"0 0 24 24\"\n",
              "       width=\"24px\">\n",
              "    <path d=\"M0 0h24v24H0V0z\" fill=\"none\"/>\n",
              "    <path d=\"M18.56 5.44l.94 2.06.94-2.06 2.06-.94-2.06-.94-.94-2.06-.94 2.06-2.06.94zm-11 1L8.5 8.5l.94-2.06 2.06-.94-2.06-.94L8.5 2.5l-.94 2.06-2.06.94zm10 10l.94 2.06.94-2.06 2.06-.94-2.06-.94-.94-2.06-.94 2.06-2.06.94z\"/><path d=\"M17.41 7.96l-1.37-1.37c-.4-.4-.92-.59-1.43-.59-.52 0-1.04.2-1.43.59L10.3 9.45l-7.72 7.72c-.78.78-.78 2.05 0 2.83L4 21.41c.39.39.9.59 1.41.59.51 0 1.02-.2 1.41-.59l7.78-7.78 2.81-2.81c.8-.78.8-2.07 0-2.86zM5.41 20L4 18.59l7.72-7.72 1.47 1.35L5.41 20z\"/>\n",
              "  </svg>\n",
              "      </button>\n",
              "      \n",
              "  <style>\n",
              "    .colab-df-container {\n",
              "      display:flex;\n",
              "      flex-wrap:wrap;\n",
              "      gap: 12px;\n",
              "    }\n",
              "\n",
              "    .colab-df-convert {\n",
              "      background-color: #E8F0FE;\n",
              "      border: none;\n",
              "      border-radius: 50%;\n",
              "      cursor: pointer;\n",
              "      display: none;\n",
              "      fill: #1967D2;\n",
              "      height: 32px;\n",
              "      padding: 0 0 0 0;\n",
              "      width: 32px;\n",
              "    }\n",
              "\n",
              "    .colab-df-convert:hover {\n",
              "      background-color: #E2EBFA;\n",
              "      box-shadow: 0px 1px 2px rgba(60, 64, 67, 0.3), 0px 1px 3px 1px rgba(60, 64, 67, 0.15);\n",
              "      fill: #174EA6;\n",
              "    }\n",
              "\n",
              "    [theme=dark] .colab-df-convert {\n",
              "      background-color: #3B4455;\n",
              "      fill: #D2E3FC;\n",
              "    }\n",
              "\n",
              "    [theme=dark] .colab-df-convert:hover {\n",
              "      background-color: #434B5C;\n",
              "      box-shadow: 0px 1px 3px 1px rgba(0, 0, 0, 0.15);\n",
              "      filter: drop-shadow(0px 1px 2px rgba(0, 0, 0, 0.3));\n",
              "      fill: #FFFFFF;\n",
              "    }\n",
              "  </style>\n",
              "\n",
              "      <script>\n",
              "        const buttonEl =\n",
              "          document.querySelector('#df-cd53a065-c2c3-4fed-bebb-2aeb093ec873 button.colab-df-convert');\n",
              "        buttonEl.style.display =\n",
              "          google.colab.kernel.accessAllowed ? 'block' : 'none';\n",
              "\n",
              "        async function convertToInteractive(key) {\n",
              "          const element = document.querySelector('#df-cd53a065-c2c3-4fed-bebb-2aeb093ec873');\n",
              "          const dataTable =\n",
              "            await google.colab.kernel.invokeFunction('convertToInteractive',\n",
              "                                                     [key], {});\n",
              "          if (!dataTable) return;\n",
              "\n",
              "          const docLinkHtml = 'Like what you see? Visit the ' +\n",
              "            '<a target=\"_blank\" href=https://colab.research.google.com/notebooks/data_table.ipynb>data table notebook</a>'\n",
              "            + ' to learn more about interactive tables.';\n",
              "          element.innerHTML = '';\n",
              "          dataTable['output_type'] = 'display_data';\n",
              "          await google.colab.output.renderOutput(dataTable, element);\n",
              "          const docLink = document.createElement('div');\n",
              "          docLink.innerHTML = docLinkHtml;\n",
              "          element.appendChild(docLink);\n",
              "        }\n",
              "      </script>\n",
              "    </div>\n",
              "  </div>\n",
              "  "
            ]
          },
          "metadata": {},
          "execution_count": 84
        }
      ]
    },
    {
      "cell_type": "markdown",
      "source": [
        "# Cleaning and selection"
      ],
      "metadata": {
        "id": "C5B29iw8pnNy"
      }
    },
    {
      "cell_type": "code",
      "source": [
        "# Import of csv\n",
        "assets = pd.read_csv(\"/content/assets.csv\", parse_dates =True, index_col = \"time\")\n",
        "assets"
      ],
      "metadata": {
        "colab": {
          "base_uri": "https://localhost:8080/",
          "height": 710
        },
        "id": "aG1rWwIdpWZK",
        "outputId": "f6ba7b8c-d071-448c-d617-1a9df111a0de"
      },
      "execution_count": null,
      "outputs": [
        {
          "output_type": "execute_result",
          "data": {
            "text/plain": [
              "            Open MSFT  High MSFT  Low MSFT  Close MSFT  Volume MSFT  \\\n",
              "time                                                                  \n",
              "2020-03-18      138.0   146.0000    135.02      140.40   80794307.0   \n",
              "2020-03-17      140.0   147.4998    135.00      146.57   81059817.0   \n",
              "2020-03-16      140.0   149.3500    135.00      135.42   87905868.0   \n",
              "2020-03-13      147.5   161.9100    140.73      158.83   92727446.0   \n",
              "2020-03-12      145.3   153.4700    138.58      139.06   93226366.0   \n",
              "...               ...        ...       ...         ...          ...   \n",
              "2000-07-04        NaN        NaN       NaN         NaN          NaN   \n",
              "2000-05-29        NaN        NaN       NaN         NaN          NaN   \n",
              "2000-04-21        NaN        NaN       NaN         NaN          NaN   \n",
              "2000-02-21        NaN        NaN       NaN         NaN          NaN   \n",
              "2000-01-17        NaN        NaN       NaN         NaN          NaN   \n",
              "\n",
              "            Open GOOG  High GOOG  Low GOOG  Close GOOG  Volume GOOG  ...  \\\n",
              "time                                                                 ...   \n",
              "2020-03-18    1056.51    1106.50   1037.28     1096.80    4220935.0  ...   \n",
              "2020-03-17    1093.11    1130.86   1056.01     1119.80    3861489.0  ...   \n",
              "2020-03-16    1096.00    1152.27   1074.44     1084.33    4252365.0  ...   \n",
              "2020-03-13    1179.00    1219.76   1117.14     1219.73    3700125.0  ...   \n",
              "2020-03-12    1126.00    1193.87   1113.30     1114.91    4226748.0  ...   \n",
              "...               ...        ...       ...         ...          ...  ...   \n",
              "2000-07-04        NaN        NaN       NaN         NaN          NaN  ...   \n",
              "2000-05-29        NaN        NaN       NaN         NaN          NaN  ...   \n",
              "2000-04-21        NaN        NaN       NaN         NaN          NaN  ...   \n",
              "2000-02-21        NaN        NaN       NaN         NaN          NaN  ...   \n",
              "2000-01-17        NaN        NaN       NaN         NaN          NaN  ...   \n",
              "\n",
              "            Open EUROSTOCK50  High EUROSTOCK50  Low EUROSTOCK50  \\\n",
              "time                                                              \n",
              "2020-03-18         2507.3301         2507.3301        2365.7000   \n",
              "2020-03-17         2475.1799         2555.4099        2376.2300   \n",
              "2020-03-16         2557.7100         2557.7100        2302.8401   \n",
              "2020-03-13         2584.3601         2793.2700        2537.2700   \n",
              "2020-03-12         2883.2500         2883.2500        2535.8899   \n",
              "...                      ...               ...              ...   \n",
              "2000-07-04         5185.8701         5185.8701        5185.8701   \n",
              "2000-05-29         5084.6899         5084.6899        5084.6899   \n",
              "2000-04-21         5180.1184         5207.4892        5132.2034   \n",
              "2000-02-21         5033.3301         5033.3301        5033.3301   \n",
              "2000-01-17         4884.5000         4884.5000        4884.5000   \n",
              "\n",
              "            Close EUROSTOCK50  Volume EUROSTOCK50  Open INTEL  High INTEL  \\\n",
              "time                                                                        \n",
              "2020-03-18          2385.8201          98214900.0     30.2400     32.4550   \n",
              "2020-03-17          2530.5000         106905300.0     29.0600     33.8000   \n",
              "2020-03-16          2450.3701         137137000.0     30.1100     32.8450   \n",
              "2020-03-13          2586.0200         136547100.0     33.8700     35.0077   \n",
              "2020-03-12          2545.2300         167329900.0     35.2900     36.0432   \n",
              "...                       ...                 ...         ...         ...   \n",
              "2000-07-04          5185.8701                 0.0         NaN         NaN   \n",
              "2000-05-29          5084.6899                 0.0         NaN         NaN   \n",
              "2000-04-21          5170.3844            722995.0         NaN         NaN   \n",
              "2000-02-21          5033.3301                 0.0         NaN         NaN   \n",
              "2000-01-17          4884.5000                 0.0         NaN         NaN   \n",
              "\n",
              "            Low INTEL  Close INTEL  Volume INTEL  \n",
              "time                                              \n",
              "2020-03-18      28.01        29.20      192337.0  \n",
              "2020-03-17      28.79        32.40      273967.0  \n",
              "2020-03-16      28.62        29.01       97928.0  \n",
              "2020-03-13      31.00        33.00      126388.0  \n",
              "2020-03-12      32.33        32.43      145336.0  \n",
              "...               ...          ...           ...  \n",
              "2000-07-04        NaN          NaN           NaN  \n",
              "2000-05-29        NaN          NaN           NaN  \n",
              "2000-04-21        NaN          NaN           NaN  \n",
              "2000-02-21        NaN          NaN           NaN  \n",
              "2000-01-17        NaN          NaN           NaN  \n",
              "\n",
              "[5732 rows x 80 columns]"
            ],
            "text/html": [
              "\n",
              "  <div id=\"df-2d3a88dc-17a1-497f-8b94-12a47d2cc888\">\n",
              "    <div class=\"colab-df-container\">\n",
              "      <div>\n",
              "<style scoped>\n",
              "    .dataframe tbody tr th:only-of-type {\n",
              "        vertical-align: middle;\n",
              "    }\n",
              "\n",
              "    .dataframe tbody tr th {\n",
              "        vertical-align: top;\n",
              "    }\n",
              "\n",
              "    .dataframe thead th {\n",
              "        text-align: right;\n",
              "    }\n",
              "</style>\n",
              "<table border=\"1\" class=\"dataframe\">\n",
              "  <thead>\n",
              "    <tr style=\"text-align: right;\">\n",
              "      <th></th>\n",
              "      <th>Open MSFT</th>\n",
              "      <th>High MSFT</th>\n",
              "      <th>Low MSFT</th>\n",
              "      <th>Close MSFT</th>\n",
              "      <th>Volume MSFT</th>\n",
              "      <th>Open GOOG</th>\n",
              "      <th>High GOOG</th>\n",
              "      <th>Low GOOG</th>\n",
              "      <th>Close GOOG</th>\n",
              "      <th>Volume GOOG</th>\n",
              "      <th>...</th>\n",
              "      <th>Open EUROSTOCK50</th>\n",
              "      <th>High EUROSTOCK50</th>\n",
              "      <th>Low EUROSTOCK50</th>\n",
              "      <th>Close EUROSTOCK50</th>\n",
              "      <th>Volume EUROSTOCK50</th>\n",
              "      <th>Open INTEL</th>\n",
              "      <th>High INTEL</th>\n",
              "      <th>Low INTEL</th>\n",
              "      <th>Close INTEL</th>\n",
              "      <th>Volume INTEL</th>\n",
              "    </tr>\n",
              "    <tr>\n",
              "      <th>time</th>\n",
              "      <th></th>\n",
              "      <th></th>\n",
              "      <th></th>\n",
              "      <th></th>\n",
              "      <th></th>\n",
              "      <th></th>\n",
              "      <th></th>\n",
              "      <th></th>\n",
              "      <th></th>\n",
              "      <th></th>\n",
              "      <th></th>\n",
              "      <th></th>\n",
              "      <th></th>\n",
              "      <th></th>\n",
              "      <th></th>\n",
              "      <th></th>\n",
              "      <th></th>\n",
              "      <th></th>\n",
              "      <th></th>\n",
              "      <th></th>\n",
              "      <th></th>\n",
              "    </tr>\n",
              "  </thead>\n",
              "  <tbody>\n",
              "    <tr>\n",
              "      <th>2020-03-18</th>\n",
              "      <td>138.0</td>\n",
              "      <td>146.0000</td>\n",
              "      <td>135.02</td>\n",
              "      <td>140.40</td>\n",
              "      <td>80794307.0</td>\n",
              "      <td>1056.51</td>\n",
              "      <td>1106.50</td>\n",
              "      <td>1037.28</td>\n",
              "      <td>1096.80</td>\n",
              "      <td>4220935.0</td>\n",
              "      <td>...</td>\n",
              "      <td>2507.3301</td>\n",
              "      <td>2507.3301</td>\n",
              "      <td>2365.7000</td>\n",
              "      <td>2385.8201</td>\n",
              "      <td>98214900.0</td>\n",
              "      <td>30.2400</td>\n",
              "      <td>32.4550</td>\n",
              "      <td>28.01</td>\n",
              "      <td>29.20</td>\n",
              "      <td>192337.0</td>\n",
              "    </tr>\n",
              "    <tr>\n",
              "      <th>2020-03-17</th>\n",
              "      <td>140.0</td>\n",
              "      <td>147.4998</td>\n",
              "      <td>135.00</td>\n",
              "      <td>146.57</td>\n",
              "      <td>81059817.0</td>\n",
              "      <td>1093.11</td>\n",
              "      <td>1130.86</td>\n",
              "      <td>1056.01</td>\n",
              "      <td>1119.80</td>\n",
              "      <td>3861489.0</td>\n",
              "      <td>...</td>\n",
              "      <td>2475.1799</td>\n",
              "      <td>2555.4099</td>\n",
              "      <td>2376.2300</td>\n",
              "      <td>2530.5000</td>\n",
              "      <td>106905300.0</td>\n",
              "      <td>29.0600</td>\n",
              "      <td>33.8000</td>\n",
              "      <td>28.79</td>\n",
              "      <td>32.40</td>\n",
              "      <td>273967.0</td>\n",
              "    </tr>\n",
              "    <tr>\n",
              "      <th>2020-03-16</th>\n",
              "      <td>140.0</td>\n",
              "      <td>149.3500</td>\n",
              "      <td>135.00</td>\n",
              "      <td>135.42</td>\n",
              "      <td>87905868.0</td>\n",
              "      <td>1096.00</td>\n",
              "      <td>1152.27</td>\n",
              "      <td>1074.44</td>\n",
              "      <td>1084.33</td>\n",
              "      <td>4252365.0</td>\n",
              "      <td>...</td>\n",
              "      <td>2557.7100</td>\n",
              "      <td>2557.7100</td>\n",
              "      <td>2302.8401</td>\n",
              "      <td>2450.3701</td>\n",
              "      <td>137137000.0</td>\n",
              "      <td>30.1100</td>\n",
              "      <td>32.8450</td>\n",
              "      <td>28.62</td>\n",
              "      <td>29.01</td>\n",
              "      <td>97928.0</td>\n",
              "    </tr>\n",
              "    <tr>\n",
              "      <th>2020-03-13</th>\n",
              "      <td>147.5</td>\n",
              "      <td>161.9100</td>\n",
              "      <td>140.73</td>\n",
              "      <td>158.83</td>\n",
              "      <td>92727446.0</td>\n",
              "      <td>1179.00</td>\n",
              "      <td>1219.76</td>\n",
              "      <td>1117.14</td>\n",
              "      <td>1219.73</td>\n",
              "      <td>3700125.0</td>\n",
              "      <td>...</td>\n",
              "      <td>2584.3601</td>\n",
              "      <td>2793.2700</td>\n",
              "      <td>2537.2700</td>\n",
              "      <td>2586.0200</td>\n",
              "      <td>136547100.0</td>\n",
              "      <td>33.8700</td>\n",
              "      <td>35.0077</td>\n",
              "      <td>31.00</td>\n",
              "      <td>33.00</td>\n",
              "      <td>126388.0</td>\n",
              "    </tr>\n",
              "    <tr>\n",
              "      <th>2020-03-12</th>\n",
              "      <td>145.3</td>\n",
              "      <td>153.4700</td>\n",
              "      <td>138.58</td>\n",
              "      <td>139.06</td>\n",
              "      <td>93226366.0</td>\n",
              "      <td>1126.00</td>\n",
              "      <td>1193.87</td>\n",
              "      <td>1113.30</td>\n",
              "      <td>1114.91</td>\n",
              "      <td>4226748.0</td>\n",
              "      <td>...</td>\n",
              "      <td>2883.2500</td>\n",
              "      <td>2883.2500</td>\n",
              "      <td>2535.8899</td>\n",
              "      <td>2545.2300</td>\n",
              "      <td>167329900.0</td>\n",
              "      <td>35.2900</td>\n",
              "      <td>36.0432</td>\n",
              "      <td>32.33</td>\n",
              "      <td>32.43</td>\n",
              "      <td>145336.0</td>\n",
              "    </tr>\n",
              "    <tr>\n",
              "      <th>...</th>\n",
              "      <td>...</td>\n",
              "      <td>...</td>\n",
              "      <td>...</td>\n",
              "      <td>...</td>\n",
              "      <td>...</td>\n",
              "      <td>...</td>\n",
              "      <td>...</td>\n",
              "      <td>...</td>\n",
              "      <td>...</td>\n",
              "      <td>...</td>\n",
              "      <td>...</td>\n",
              "      <td>...</td>\n",
              "      <td>...</td>\n",
              "      <td>...</td>\n",
              "      <td>...</td>\n",
              "      <td>...</td>\n",
              "      <td>...</td>\n",
              "      <td>...</td>\n",
              "      <td>...</td>\n",
              "      <td>...</td>\n",
              "      <td>...</td>\n",
              "    </tr>\n",
              "    <tr>\n",
              "      <th>2000-07-04</th>\n",
              "      <td>NaN</td>\n",
              "      <td>NaN</td>\n",
              "      <td>NaN</td>\n",
              "      <td>NaN</td>\n",
              "      <td>NaN</td>\n",
              "      <td>NaN</td>\n",
              "      <td>NaN</td>\n",
              "      <td>NaN</td>\n",
              "      <td>NaN</td>\n",
              "      <td>NaN</td>\n",
              "      <td>...</td>\n",
              "      <td>5185.8701</td>\n",
              "      <td>5185.8701</td>\n",
              "      <td>5185.8701</td>\n",
              "      <td>5185.8701</td>\n",
              "      <td>0.0</td>\n",
              "      <td>NaN</td>\n",
              "      <td>NaN</td>\n",
              "      <td>NaN</td>\n",
              "      <td>NaN</td>\n",
              "      <td>NaN</td>\n",
              "    </tr>\n",
              "    <tr>\n",
              "      <th>2000-05-29</th>\n",
              "      <td>NaN</td>\n",
              "      <td>NaN</td>\n",
              "      <td>NaN</td>\n",
              "      <td>NaN</td>\n",
              "      <td>NaN</td>\n",
              "      <td>NaN</td>\n",
              "      <td>NaN</td>\n",
              "      <td>NaN</td>\n",
              "      <td>NaN</td>\n",
              "      <td>NaN</td>\n",
              "      <td>...</td>\n",
              "      <td>5084.6899</td>\n",
              "      <td>5084.6899</td>\n",
              "      <td>5084.6899</td>\n",
              "      <td>5084.6899</td>\n",
              "      <td>0.0</td>\n",
              "      <td>NaN</td>\n",
              "      <td>NaN</td>\n",
              "      <td>NaN</td>\n",
              "      <td>NaN</td>\n",
              "      <td>NaN</td>\n",
              "    </tr>\n",
              "    <tr>\n",
              "      <th>2000-04-21</th>\n",
              "      <td>NaN</td>\n",
              "      <td>NaN</td>\n",
              "      <td>NaN</td>\n",
              "      <td>NaN</td>\n",
              "      <td>NaN</td>\n",
              "      <td>NaN</td>\n",
              "      <td>NaN</td>\n",
              "      <td>NaN</td>\n",
              "      <td>NaN</td>\n",
              "      <td>NaN</td>\n",
              "      <td>...</td>\n",
              "      <td>5180.1184</td>\n",
              "      <td>5207.4892</td>\n",
              "      <td>5132.2034</td>\n",
              "      <td>5170.3844</td>\n",
              "      <td>722995.0</td>\n",
              "      <td>NaN</td>\n",
              "      <td>NaN</td>\n",
              "      <td>NaN</td>\n",
              "      <td>NaN</td>\n",
              "      <td>NaN</td>\n",
              "    </tr>\n",
              "    <tr>\n",
              "      <th>2000-02-21</th>\n",
              "      <td>NaN</td>\n",
              "      <td>NaN</td>\n",
              "      <td>NaN</td>\n",
              "      <td>NaN</td>\n",
              "      <td>NaN</td>\n",
              "      <td>NaN</td>\n",
              "      <td>NaN</td>\n",
              "      <td>NaN</td>\n",
              "      <td>NaN</td>\n",
              "      <td>NaN</td>\n",
              "      <td>...</td>\n",
              "      <td>5033.3301</td>\n",
              "      <td>5033.3301</td>\n",
              "      <td>5033.3301</td>\n",
              "      <td>5033.3301</td>\n",
              "      <td>0.0</td>\n",
              "      <td>NaN</td>\n",
              "      <td>NaN</td>\n",
              "      <td>NaN</td>\n",
              "      <td>NaN</td>\n",
              "      <td>NaN</td>\n",
              "    </tr>\n",
              "    <tr>\n",
              "      <th>2000-01-17</th>\n",
              "      <td>NaN</td>\n",
              "      <td>NaN</td>\n",
              "      <td>NaN</td>\n",
              "      <td>NaN</td>\n",
              "      <td>NaN</td>\n",
              "      <td>NaN</td>\n",
              "      <td>NaN</td>\n",
              "      <td>NaN</td>\n",
              "      <td>NaN</td>\n",
              "      <td>NaN</td>\n",
              "      <td>...</td>\n",
              "      <td>4884.5000</td>\n",
              "      <td>4884.5000</td>\n",
              "      <td>4884.5000</td>\n",
              "      <td>4884.5000</td>\n",
              "      <td>0.0</td>\n",
              "      <td>NaN</td>\n",
              "      <td>NaN</td>\n",
              "      <td>NaN</td>\n",
              "      <td>NaN</td>\n",
              "      <td>NaN</td>\n",
              "    </tr>\n",
              "  </tbody>\n",
              "</table>\n",
              "<p>5732 rows × 80 columns</p>\n",
              "</div>\n",
              "      <button class=\"colab-df-convert\" onclick=\"convertToInteractive('df-2d3a88dc-17a1-497f-8b94-12a47d2cc888')\"\n",
              "              title=\"Convert this dataframe to an interactive table.\"\n",
              "              style=\"display:none;\">\n",
              "        \n",
              "  <svg xmlns=\"http://www.w3.org/2000/svg\" height=\"24px\"viewBox=\"0 0 24 24\"\n",
              "       width=\"24px\">\n",
              "    <path d=\"M0 0h24v24H0V0z\" fill=\"none\"/>\n",
              "    <path d=\"M18.56 5.44l.94 2.06.94-2.06 2.06-.94-2.06-.94-.94-2.06-.94 2.06-2.06.94zm-11 1L8.5 8.5l.94-2.06 2.06-.94-2.06-.94L8.5 2.5l-.94 2.06-2.06.94zm10 10l.94 2.06.94-2.06 2.06-.94-2.06-.94-.94-2.06-.94 2.06-2.06.94z\"/><path d=\"M17.41 7.96l-1.37-1.37c-.4-.4-.92-.59-1.43-.59-.52 0-1.04.2-1.43.59L10.3 9.45l-7.72 7.72c-.78.78-.78 2.05 0 2.83L4 21.41c.39.39.9.59 1.41.59.51 0 1.02-.2 1.41-.59l7.78-7.78 2.81-2.81c.8-.78.8-2.07 0-2.86zM5.41 20L4 18.59l7.72-7.72 1.47 1.35L5.41 20z\"/>\n",
              "  </svg>\n",
              "      </button>\n",
              "      \n",
              "  <style>\n",
              "    .colab-df-container {\n",
              "      display:flex;\n",
              "      flex-wrap:wrap;\n",
              "      gap: 12px;\n",
              "    }\n",
              "\n",
              "    .colab-df-convert {\n",
              "      background-color: #E8F0FE;\n",
              "      border: none;\n",
              "      border-radius: 50%;\n",
              "      cursor: pointer;\n",
              "      display: none;\n",
              "      fill: #1967D2;\n",
              "      height: 32px;\n",
              "      padding: 0 0 0 0;\n",
              "      width: 32px;\n",
              "    }\n",
              "\n",
              "    .colab-df-convert:hover {\n",
              "      background-color: #E2EBFA;\n",
              "      box-shadow: 0px 1px 2px rgba(60, 64, 67, 0.3), 0px 1px 3px 1px rgba(60, 64, 67, 0.15);\n",
              "      fill: #174EA6;\n",
              "    }\n",
              "\n",
              "    [theme=dark] .colab-df-convert {\n",
              "      background-color: #3B4455;\n",
              "      fill: #D2E3FC;\n",
              "    }\n",
              "\n",
              "    [theme=dark] .colab-df-convert:hover {\n",
              "      background-color: #434B5C;\n",
              "      box-shadow: 0px 1px 3px 1px rgba(0, 0, 0, 0.15);\n",
              "      filter: drop-shadow(0px 1px 2px rgba(0, 0, 0, 0.3));\n",
              "      fill: #FFFFFF;\n",
              "    }\n",
              "  </style>\n",
              "\n",
              "      <script>\n",
              "        const buttonEl =\n",
              "          document.querySelector('#df-2d3a88dc-17a1-497f-8b94-12a47d2cc888 button.colab-df-convert');\n",
              "        buttonEl.style.display =\n",
              "          google.colab.kernel.accessAllowed ? 'block' : 'none';\n",
              "\n",
              "        async function convertToInteractive(key) {\n",
              "          const element = document.querySelector('#df-2d3a88dc-17a1-497f-8b94-12a47d2cc888');\n",
              "          const dataTable =\n",
              "            await google.colab.kernel.invokeFunction('convertToInteractive',\n",
              "                                                     [key], {});\n",
              "          if (!dataTable) return;\n",
              "\n",
              "          const docLinkHtml = 'Like what you see? Visit the ' +\n",
              "            '<a target=\"_blank\" href=https://colab.research.google.com/notebooks/data_table.ipynb>data table notebook</a>'\n",
              "            + ' to learn more about interactive tables.';\n",
              "          element.innerHTML = '';\n",
              "          dataTable['output_type'] = 'display_data';\n",
              "          await google.colab.output.renderOutput(dataTable, element);\n",
              "          const docLink = document.createElement('div');\n",
              "          docLink.innerHTML = docLinkHtml;\n",
              "          element.appendChild(docLink);\n",
              "        }\n",
              "      </script>\n",
              "    </div>\n",
              "  </div>\n",
              "  "
            ]
          },
          "metadata": {},
          "execution_count": 87
        }
      ]
    },
    {
      "cell_type": "code",
      "source": [
        "# Ordonning\n",
        "assets = assets.sort_index(ascending = True)"
      ],
      "metadata": {
        "id": "QE0et3zXtiEy"
      },
      "execution_count": null,
      "outputs": []
    },
    {
      "cell_type": "code",
      "source": [
        "# Select a column\n",
        "assets = assets[[\"Close DJI30\", \"Close CAC40\", \"Close SP500\"]]\n",
        "assets"
      ],
      "metadata": {
        "colab": {
          "base_uri": "https://localhost:8080/",
          "height": 455
        },
        "id": "l9KYamjEt79i",
        "outputId": "b4a3547d-12e5-49e9-b7e7-a8d3e396ae87"
      },
      "execution_count": null,
      "outputs": [
        {
          "output_type": "execute_result",
          "data": {
            "text/plain": [
              "            Close DJI30 Close CAC40  Close SP500\n",
              "time                                            \n",
              "2000-01-03   11357.5098   5917.3701    1455.2200\n",
              "2000-01-04   10997.9297   5672.0200    1399.4200\n",
              "2000-01-05   11122.6504   5479.7002    1402.1100\n",
              "2000-01-06   11253.2598   5450.1099    1403.4500\n",
              "2000-01-07   11522.5596   5539.6099    1441.4700\n",
              "...                 ...         ...          ...\n",
              "2020-03-15          NaN         NaN          NaN\n",
              "2020-03-16   20188.5195   3881.4600    2426.6181\n",
              "2020-03-17   21237.3809   3991.7800    2436.5000\n",
              "2020-03-18   19898.9199   3754.8401    2398.1001\n",
              "2020-03-19          NaN         NaN          NaN\n",
              "\n",
              "[5732 rows x 3 columns]"
            ],
            "text/html": [
              "\n",
              "  <div id=\"df-1c34531f-99e4-4ccc-b264-9fc1b04faba2\">\n",
              "    <div class=\"colab-df-container\">\n",
              "      <div>\n",
              "<style scoped>\n",
              "    .dataframe tbody tr th:only-of-type {\n",
              "        vertical-align: middle;\n",
              "    }\n",
              "\n",
              "    .dataframe tbody tr th {\n",
              "        vertical-align: top;\n",
              "    }\n",
              "\n",
              "    .dataframe thead th {\n",
              "        text-align: right;\n",
              "    }\n",
              "</style>\n",
              "<table border=\"1\" class=\"dataframe\">\n",
              "  <thead>\n",
              "    <tr style=\"text-align: right;\">\n",
              "      <th></th>\n",
              "      <th>Close DJI30</th>\n",
              "      <th>Close CAC40</th>\n",
              "      <th>Close SP500</th>\n",
              "    </tr>\n",
              "    <tr>\n",
              "      <th>time</th>\n",
              "      <th></th>\n",
              "      <th></th>\n",
              "      <th></th>\n",
              "    </tr>\n",
              "  </thead>\n",
              "  <tbody>\n",
              "    <tr>\n",
              "      <th>2000-01-03</th>\n",
              "      <td>11357.5098</td>\n",
              "      <td>5917.3701</td>\n",
              "      <td>1455.2200</td>\n",
              "    </tr>\n",
              "    <tr>\n",
              "      <th>2000-01-04</th>\n",
              "      <td>10997.9297</td>\n",
              "      <td>5672.0200</td>\n",
              "      <td>1399.4200</td>\n",
              "    </tr>\n",
              "    <tr>\n",
              "      <th>2000-01-05</th>\n",
              "      <td>11122.6504</td>\n",
              "      <td>5479.7002</td>\n",
              "      <td>1402.1100</td>\n",
              "    </tr>\n",
              "    <tr>\n",
              "      <th>2000-01-06</th>\n",
              "      <td>11253.2598</td>\n",
              "      <td>5450.1099</td>\n",
              "      <td>1403.4500</td>\n",
              "    </tr>\n",
              "    <tr>\n",
              "      <th>2000-01-07</th>\n",
              "      <td>11522.5596</td>\n",
              "      <td>5539.6099</td>\n",
              "      <td>1441.4700</td>\n",
              "    </tr>\n",
              "    <tr>\n",
              "      <th>...</th>\n",
              "      <td>...</td>\n",
              "      <td>...</td>\n",
              "      <td>...</td>\n",
              "    </tr>\n",
              "    <tr>\n",
              "      <th>2020-03-15</th>\n",
              "      <td>NaN</td>\n",
              "      <td>NaN</td>\n",
              "      <td>NaN</td>\n",
              "    </tr>\n",
              "    <tr>\n",
              "      <th>2020-03-16</th>\n",
              "      <td>20188.5195</td>\n",
              "      <td>3881.4600</td>\n",
              "      <td>2426.6181</td>\n",
              "    </tr>\n",
              "    <tr>\n",
              "      <th>2020-03-17</th>\n",
              "      <td>21237.3809</td>\n",
              "      <td>3991.7800</td>\n",
              "      <td>2436.5000</td>\n",
              "    </tr>\n",
              "    <tr>\n",
              "      <th>2020-03-18</th>\n",
              "      <td>19898.9199</td>\n",
              "      <td>3754.8401</td>\n",
              "      <td>2398.1001</td>\n",
              "    </tr>\n",
              "    <tr>\n",
              "      <th>2020-03-19</th>\n",
              "      <td>NaN</td>\n",
              "      <td>NaN</td>\n",
              "      <td>NaN</td>\n",
              "    </tr>\n",
              "  </tbody>\n",
              "</table>\n",
              "<p>5732 rows × 3 columns</p>\n",
              "</div>\n",
              "      <button class=\"colab-df-convert\" onclick=\"convertToInteractive('df-1c34531f-99e4-4ccc-b264-9fc1b04faba2')\"\n",
              "              title=\"Convert this dataframe to an interactive table.\"\n",
              "              style=\"display:none;\">\n",
              "        \n",
              "  <svg xmlns=\"http://www.w3.org/2000/svg\" height=\"24px\"viewBox=\"0 0 24 24\"\n",
              "       width=\"24px\">\n",
              "    <path d=\"M0 0h24v24H0V0z\" fill=\"none\"/>\n",
              "    <path d=\"M18.56 5.44l.94 2.06.94-2.06 2.06-.94-2.06-.94-.94-2.06-.94 2.06-2.06.94zm-11 1L8.5 8.5l.94-2.06 2.06-.94-2.06-.94L8.5 2.5l-.94 2.06-2.06.94zm10 10l.94 2.06.94-2.06 2.06-.94-2.06-.94-.94-2.06-.94 2.06-2.06.94z\"/><path d=\"M17.41 7.96l-1.37-1.37c-.4-.4-.92-.59-1.43-.59-.52 0-1.04.2-1.43.59L10.3 9.45l-7.72 7.72c-.78.78-.78 2.05 0 2.83L4 21.41c.39.39.9.59 1.41.59.51 0 1.02-.2 1.41-.59l7.78-7.78 2.81-2.81c.8-.78.8-2.07 0-2.86zM5.41 20L4 18.59l7.72-7.72 1.47 1.35L5.41 20z\"/>\n",
              "  </svg>\n",
              "      </button>\n",
              "      \n",
              "  <style>\n",
              "    .colab-df-container {\n",
              "      display:flex;\n",
              "      flex-wrap:wrap;\n",
              "      gap: 12px;\n",
              "    }\n",
              "\n",
              "    .colab-df-convert {\n",
              "      background-color: #E8F0FE;\n",
              "      border: none;\n",
              "      border-radius: 50%;\n",
              "      cursor: pointer;\n",
              "      display: none;\n",
              "      fill: #1967D2;\n",
              "      height: 32px;\n",
              "      padding: 0 0 0 0;\n",
              "      width: 32px;\n",
              "    }\n",
              "\n",
              "    .colab-df-convert:hover {\n",
              "      background-color: #E2EBFA;\n",
              "      box-shadow: 0px 1px 2px rgba(60, 64, 67, 0.3), 0px 1px 3px 1px rgba(60, 64, 67, 0.15);\n",
              "      fill: #174EA6;\n",
              "    }\n",
              "\n",
              "    [theme=dark] .colab-df-convert {\n",
              "      background-color: #3B4455;\n",
              "      fill: #D2E3FC;\n",
              "    }\n",
              "\n",
              "    [theme=dark] .colab-df-convert:hover {\n",
              "      background-color: #434B5C;\n",
              "      box-shadow: 0px 1px 3px 1px rgba(0, 0, 0, 0.15);\n",
              "      filter: drop-shadow(0px 1px 2px rgba(0, 0, 0, 0.3));\n",
              "      fill: #FFFFFF;\n",
              "    }\n",
              "  </style>\n",
              "\n",
              "      <script>\n",
              "        const buttonEl =\n",
              "          document.querySelector('#df-1c34531f-99e4-4ccc-b264-9fc1b04faba2 button.colab-df-convert');\n",
              "        buttonEl.style.display =\n",
              "          google.colab.kernel.accessAllowed ? 'block' : 'none';\n",
              "\n",
              "        async function convertToInteractive(key) {\n",
              "          const element = document.querySelector('#df-1c34531f-99e4-4ccc-b264-9fc1b04faba2');\n",
              "          const dataTable =\n",
              "            await google.colab.kernel.invokeFunction('convertToInteractive',\n",
              "                                                     [key], {});\n",
              "          if (!dataTable) return;\n",
              "\n",
              "          const docLinkHtml = 'Like what you see? Visit the ' +\n",
              "            '<a target=\"_blank\" href=https://colab.research.google.com/notebooks/data_table.ipynb>data table notebook</a>'\n",
              "            + ' to learn more about interactive tables.';\n",
              "          element.innerHTML = '';\n",
              "          dataTable['output_type'] = 'display_data';\n",
              "          await google.colab.output.renderOutput(dataTable, element);\n",
              "          const docLink = document.createElement('div');\n",
              "          docLink.innerHTML = docLinkHtml;\n",
              "          element.appendChild(docLink);\n",
              "        }\n",
              "      </script>\n",
              "    </div>\n",
              "  </div>\n",
              "  "
            ]
          },
          "metadata": {},
          "execution_count": 93
        }
      ]
    },
    {
      "cell_type": "code",
      "source": [
        "# Reset index\n",
        "assets.reset_index(drop = True)"
      ],
      "metadata": {
        "colab": {
          "base_uri": "https://localhost:8080/",
          "height": 424
        },
        "id": "7WFkEWHEuA8U",
        "outputId": "faee52bc-ca21-4621-979a-950fa0ab1a40"
      },
      "execution_count": null,
      "outputs": [
        {
          "output_type": "execute_result",
          "data": {
            "text/plain": [
              "      Close DJI30 Close CAC40  Close SP500\n",
              "0      11357.5098   5917.3701    1455.2200\n",
              "1      10997.9297   5672.0200    1399.4200\n",
              "2      11122.6504   5479.7002    1402.1100\n",
              "3      11253.2598   5450.1099    1403.4500\n",
              "4      11522.5596   5539.6099    1441.4700\n",
              "...           ...         ...          ...\n",
              "5727          NaN         NaN          NaN\n",
              "5728   20188.5195   3881.4600    2426.6181\n",
              "5729   21237.3809   3991.7800    2436.5000\n",
              "5730   19898.9199   3754.8401    2398.1001\n",
              "5731          NaN         NaN          NaN\n",
              "\n",
              "[5732 rows x 3 columns]"
            ],
            "text/html": [
              "\n",
              "  <div id=\"df-e9234ece-42ee-4fcb-9f00-7346fb5a4c7e\">\n",
              "    <div class=\"colab-df-container\">\n",
              "      <div>\n",
              "<style scoped>\n",
              "    .dataframe tbody tr th:only-of-type {\n",
              "        vertical-align: middle;\n",
              "    }\n",
              "\n",
              "    .dataframe tbody tr th {\n",
              "        vertical-align: top;\n",
              "    }\n",
              "\n",
              "    .dataframe thead th {\n",
              "        text-align: right;\n",
              "    }\n",
              "</style>\n",
              "<table border=\"1\" class=\"dataframe\">\n",
              "  <thead>\n",
              "    <tr style=\"text-align: right;\">\n",
              "      <th></th>\n",
              "      <th>Close DJI30</th>\n",
              "      <th>Close CAC40</th>\n",
              "      <th>Close SP500</th>\n",
              "    </tr>\n",
              "  </thead>\n",
              "  <tbody>\n",
              "    <tr>\n",
              "      <th>0</th>\n",
              "      <td>11357.5098</td>\n",
              "      <td>5917.3701</td>\n",
              "      <td>1455.2200</td>\n",
              "    </tr>\n",
              "    <tr>\n",
              "      <th>1</th>\n",
              "      <td>10997.9297</td>\n",
              "      <td>5672.0200</td>\n",
              "      <td>1399.4200</td>\n",
              "    </tr>\n",
              "    <tr>\n",
              "      <th>2</th>\n",
              "      <td>11122.6504</td>\n",
              "      <td>5479.7002</td>\n",
              "      <td>1402.1100</td>\n",
              "    </tr>\n",
              "    <tr>\n",
              "      <th>3</th>\n",
              "      <td>11253.2598</td>\n",
              "      <td>5450.1099</td>\n",
              "      <td>1403.4500</td>\n",
              "    </tr>\n",
              "    <tr>\n",
              "      <th>4</th>\n",
              "      <td>11522.5596</td>\n",
              "      <td>5539.6099</td>\n",
              "      <td>1441.4700</td>\n",
              "    </tr>\n",
              "    <tr>\n",
              "      <th>...</th>\n",
              "      <td>...</td>\n",
              "      <td>...</td>\n",
              "      <td>...</td>\n",
              "    </tr>\n",
              "    <tr>\n",
              "      <th>5727</th>\n",
              "      <td>NaN</td>\n",
              "      <td>NaN</td>\n",
              "      <td>NaN</td>\n",
              "    </tr>\n",
              "    <tr>\n",
              "      <th>5728</th>\n",
              "      <td>20188.5195</td>\n",
              "      <td>3881.4600</td>\n",
              "      <td>2426.6181</td>\n",
              "    </tr>\n",
              "    <tr>\n",
              "      <th>5729</th>\n",
              "      <td>21237.3809</td>\n",
              "      <td>3991.7800</td>\n",
              "      <td>2436.5000</td>\n",
              "    </tr>\n",
              "    <tr>\n",
              "      <th>5730</th>\n",
              "      <td>19898.9199</td>\n",
              "      <td>3754.8401</td>\n",
              "      <td>2398.1001</td>\n",
              "    </tr>\n",
              "    <tr>\n",
              "      <th>5731</th>\n",
              "      <td>NaN</td>\n",
              "      <td>NaN</td>\n",
              "      <td>NaN</td>\n",
              "    </tr>\n",
              "  </tbody>\n",
              "</table>\n",
              "<p>5732 rows × 3 columns</p>\n",
              "</div>\n",
              "      <button class=\"colab-df-convert\" onclick=\"convertToInteractive('df-e9234ece-42ee-4fcb-9f00-7346fb5a4c7e')\"\n",
              "              title=\"Convert this dataframe to an interactive table.\"\n",
              "              style=\"display:none;\">\n",
              "        \n",
              "  <svg xmlns=\"http://www.w3.org/2000/svg\" height=\"24px\"viewBox=\"0 0 24 24\"\n",
              "       width=\"24px\">\n",
              "    <path d=\"M0 0h24v24H0V0z\" fill=\"none\"/>\n",
              "    <path d=\"M18.56 5.44l.94 2.06.94-2.06 2.06-.94-2.06-.94-.94-2.06-.94 2.06-2.06.94zm-11 1L8.5 8.5l.94-2.06 2.06-.94-2.06-.94L8.5 2.5l-.94 2.06-2.06.94zm10 10l.94 2.06.94-2.06 2.06-.94-2.06-.94-.94-2.06-.94 2.06-2.06.94z\"/><path d=\"M17.41 7.96l-1.37-1.37c-.4-.4-.92-.59-1.43-.59-.52 0-1.04.2-1.43.59L10.3 9.45l-7.72 7.72c-.78.78-.78 2.05 0 2.83L4 21.41c.39.39.9.59 1.41.59.51 0 1.02-.2 1.41-.59l7.78-7.78 2.81-2.81c.8-.78.8-2.07 0-2.86zM5.41 20L4 18.59l7.72-7.72 1.47 1.35L5.41 20z\"/>\n",
              "  </svg>\n",
              "      </button>\n",
              "      \n",
              "  <style>\n",
              "    .colab-df-container {\n",
              "      display:flex;\n",
              "      flex-wrap:wrap;\n",
              "      gap: 12px;\n",
              "    }\n",
              "\n",
              "    .colab-df-convert {\n",
              "      background-color: #E8F0FE;\n",
              "      border: none;\n",
              "      border-radius: 50%;\n",
              "      cursor: pointer;\n",
              "      display: none;\n",
              "      fill: #1967D2;\n",
              "      height: 32px;\n",
              "      padding: 0 0 0 0;\n",
              "      width: 32px;\n",
              "    }\n",
              "\n",
              "    .colab-df-convert:hover {\n",
              "      background-color: #E2EBFA;\n",
              "      box-shadow: 0px 1px 2px rgba(60, 64, 67, 0.3), 0px 1px 3px 1px rgba(60, 64, 67, 0.15);\n",
              "      fill: #174EA6;\n",
              "    }\n",
              "\n",
              "    [theme=dark] .colab-df-convert {\n",
              "      background-color: #3B4455;\n",
              "      fill: #D2E3FC;\n",
              "    }\n",
              "\n",
              "    [theme=dark] .colab-df-convert:hover {\n",
              "      background-color: #434B5C;\n",
              "      box-shadow: 0px 1px 3px 1px rgba(0, 0, 0, 0.15);\n",
              "      filter: drop-shadow(0px 1px 2px rgba(0, 0, 0, 0.3));\n",
              "      fill: #FFFFFF;\n",
              "    }\n",
              "  </style>\n",
              "\n",
              "      <script>\n",
              "        const buttonEl =\n",
              "          document.querySelector('#df-e9234ece-42ee-4fcb-9f00-7346fb5a4c7e button.colab-df-convert');\n",
              "        buttonEl.style.display =\n",
              "          google.colab.kernel.accessAllowed ? 'block' : 'none';\n",
              "\n",
              "        async function convertToInteractive(key) {\n",
              "          const element = document.querySelector('#df-e9234ece-42ee-4fcb-9f00-7346fb5a4c7e');\n",
              "          const dataTable =\n",
              "            await google.colab.kernel.invokeFunction('convertToInteractive',\n",
              "                                                     [key], {});\n",
              "          if (!dataTable) return;\n",
              "\n",
              "          const docLinkHtml = 'Like what you see? Visit the ' +\n",
              "            '<a target=\"_blank\" href=https://colab.research.google.com/notebooks/data_table.ipynb>data table notebook</a>'\n",
              "            + ' to learn more about interactive tables.';\n",
              "          element.innerHTML = '';\n",
              "          dataTable['output_type'] = 'display_data';\n",
              "          await google.colab.output.renderOutput(dataTable, element);\n",
              "          const docLink = document.createElement('div');\n",
              "          docLink.innerHTML = docLinkHtml;\n",
              "          element.appendChild(docLink);\n",
              "        }\n",
              "      </script>\n",
              "    </div>\n",
              "  </div>\n",
              "  "
            ]
          },
          "metadata": {},
          "execution_count": 94
        }
      ]
    },
    {
      "cell_type": "code",
      "source": [
        "# Missing values NaN\n",
        "assets = assets.dropna()\n",
        "assets"
      ],
      "metadata": {
        "colab": {
          "base_uri": "https://localhost:8080/",
          "height": 455
        },
        "id": "KhVyw66BuDUp",
        "outputId": "a3fe5695-9e6c-4d14-de99-9a0373a815cf"
      },
      "execution_count": null,
      "outputs": [
        {
          "output_type": "execute_result",
          "data": {
            "text/plain": [
              "            Close DJI30 Close CAC40  Close SP500\n",
              "time                                            \n",
              "2000-01-03   11357.5098   5917.3701    1455.2200\n",
              "2000-01-04   10997.9297   5672.0200    1399.4200\n",
              "2000-01-05   11122.6504   5479.7002    1402.1100\n",
              "2000-01-06   11253.2598   5450.1099    1403.4500\n",
              "2000-01-07   11522.5596   5539.6099    1441.4700\n",
              "...                 ...         ...          ...\n",
              "2020-03-12   21200.6191   4044.2600    2420.8827\n",
              "2020-03-13   23185.6191   4118.3599    2418.0191\n",
              "2020-03-16   20188.5195   3881.4600    2426.6181\n",
              "2020-03-17   21237.3809   3991.7800    2436.5000\n",
              "2020-03-18   19898.9199   3754.8401    2398.1001\n",
              "\n",
              "[5047 rows x 3 columns]"
            ],
            "text/html": [
              "\n",
              "  <div id=\"df-2f386c91-ac72-4f10-965d-06233059f6da\">\n",
              "    <div class=\"colab-df-container\">\n",
              "      <div>\n",
              "<style scoped>\n",
              "    .dataframe tbody tr th:only-of-type {\n",
              "        vertical-align: middle;\n",
              "    }\n",
              "\n",
              "    .dataframe tbody tr th {\n",
              "        vertical-align: top;\n",
              "    }\n",
              "\n",
              "    .dataframe thead th {\n",
              "        text-align: right;\n",
              "    }\n",
              "</style>\n",
              "<table border=\"1\" class=\"dataframe\">\n",
              "  <thead>\n",
              "    <tr style=\"text-align: right;\">\n",
              "      <th></th>\n",
              "      <th>Close DJI30</th>\n",
              "      <th>Close CAC40</th>\n",
              "      <th>Close SP500</th>\n",
              "    </tr>\n",
              "    <tr>\n",
              "      <th>time</th>\n",
              "      <th></th>\n",
              "      <th></th>\n",
              "      <th></th>\n",
              "    </tr>\n",
              "  </thead>\n",
              "  <tbody>\n",
              "    <tr>\n",
              "      <th>2000-01-03</th>\n",
              "      <td>11357.5098</td>\n",
              "      <td>5917.3701</td>\n",
              "      <td>1455.2200</td>\n",
              "    </tr>\n",
              "    <tr>\n",
              "      <th>2000-01-04</th>\n",
              "      <td>10997.9297</td>\n",
              "      <td>5672.0200</td>\n",
              "      <td>1399.4200</td>\n",
              "    </tr>\n",
              "    <tr>\n",
              "      <th>2000-01-05</th>\n",
              "      <td>11122.6504</td>\n",
              "      <td>5479.7002</td>\n",
              "      <td>1402.1100</td>\n",
              "    </tr>\n",
              "    <tr>\n",
              "      <th>2000-01-06</th>\n",
              "      <td>11253.2598</td>\n",
              "      <td>5450.1099</td>\n",
              "      <td>1403.4500</td>\n",
              "    </tr>\n",
              "    <tr>\n",
              "      <th>2000-01-07</th>\n",
              "      <td>11522.5596</td>\n",
              "      <td>5539.6099</td>\n",
              "      <td>1441.4700</td>\n",
              "    </tr>\n",
              "    <tr>\n",
              "      <th>...</th>\n",
              "      <td>...</td>\n",
              "      <td>...</td>\n",
              "      <td>...</td>\n",
              "    </tr>\n",
              "    <tr>\n",
              "      <th>2020-03-12</th>\n",
              "      <td>21200.6191</td>\n",
              "      <td>4044.2600</td>\n",
              "      <td>2420.8827</td>\n",
              "    </tr>\n",
              "    <tr>\n",
              "      <th>2020-03-13</th>\n",
              "      <td>23185.6191</td>\n",
              "      <td>4118.3599</td>\n",
              "      <td>2418.0191</td>\n",
              "    </tr>\n",
              "    <tr>\n",
              "      <th>2020-03-16</th>\n",
              "      <td>20188.5195</td>\n",
              "      <td>3881.4600</td>\n",
              "      <td>2426.6181</td>\n",
              "    </tr>\n",
              "    <tr>\n",
              "      <th>2020-03-17</th>\n",
              "      <td>21237.3809</td>\n",
              "      <td>3991.7800</td>\n",
              "      <td>2436.5000</td>\n",
              "    </tr>\n",
              "    <tr>\n",
              "      <th>2020-03-18</th>\n",
              "      <td>19898.9199</td>\n",
              "      <td>3754.8401</td>\n",
              "      <td>2398.1001</td>\n",
              "    </tr>\n",
              "  </tbody>\n",
              "</table>\n",
              "<p>5047 rows × 3 columns</p>\n",
              "</div>\n",
              "      <button class=\"colab-df-convert\" onclick=\"convertToInteractive('df-2f386c91-ac72-4f10-965d-06233059f6da')\"\n",
              "              title=\"Convert this dataframe to an interactive table.\"\n",
              "              style=\"display:none;\">\n",
              "        \n",
              "  <svg xmlns=\"http://www.w3.org/2000/svg\" height=\"24px\"viewBox=\"0 0 24 24\"\n",
              "       width=\"24px\">\n",
              "    <path d=\"M0 0h24v24H0V0z\" fill=\"none\"/>\n",
              "    <path d=\"M18.56 5.44l.94 2.06.94-2.06 2.06-.94-2.06-.94-.94-2.06-.94 2.06-2.06.94zm-11 1L8.5 8.5l.94-2.06 2.06-.94-2.06-.94L8.5 2.5l-.94 2.06-2.06.94zm10 10l.94 2.06.94-2.06 2.06-.94-2.06-.94-.94-2.06-.94 2.06-2.06.94z\"/><path d=\"M17.41 7.96l-1.37-1.37c-.4-.4-.92-.59-1.43-.59-.52 0-1.04.2-1.43.59L10.3 9.45l-7.72 7.72c-.78.78-.78 2.05 0 2.83L4 21.41c.39.39.9.59 1.41.59.51 0 1.02-.2 1.41-.59l7.78-7.78 2.81-2.81c.8-.78.8-2.07 0-2.86zM5.41 20L4 18.59l7.72-7.72 1.47 1.35L5.41 20z\"/>\n",
              "  </svg>\n",
              "      </button>\n",
              "      \n",
              "  <style>\n",
              "    .colab-df-container {\n",
              "      display:flex;\n",
              "      flex-wrap:wrap;\n",
              "      gap: 12px;\n",
              "    }\n",
              "\n",
              "    .colab-df-convert {\n",
              "      background-color: #E8F0FE;\n",
              "      border: none;\n",
              "      border-radius: 50%;\n",
              "      cursor: pointer;\n",
              "      display: none;\n",
              "      fill: #1967D2;\n",
              "      height: 32px;\n",
              "      padding: 0 0 0 0;\n",
              "      width: 32px;\n",
              "    }\n",
              "\n",
              "    .colab-df-convert:hover {\n",
              "      background-color: #E2EBFA;\n",
              "      box-shadow: 0px 1px 2px rgba(60, 64, 67, 0.3), 0px 1px 3px 1px rgba(60, 64, 67, 0.15);\n",
              "      fill: #174EA6;\n",
              "    }\n",
              "\n",
              "    [theme=dark] .colab-df-convert {\n",
              "      background-color: #3B4455;\n",
              "      fill: #D2E3FC;\n",
              "    }\n",
              "\n",
              "    [theme=dark] .colab-df-convert:hover {\n",
              "      background-color: #434B5C;\n",
              "      box-shadow: 0px 1px 3px 1px rgba(0, 0, 0, 0.15);\n",
              "      filter: drop-shadow(0px 1px 2px rgba(0, 0, 0, 0.3));\n",
              "      fill: #FFFFFF;\n",
              "    }\n",
              "  </style>\n",
              "\n",
              "      <script>\n",
              "        const buttonEl =\n",
              "          document.querySelector('#df-2f386c91-ac72-4f10-965d-06233059f6da button.colab-df-convert');\n",
              "        buttonEl.style.display =\n",
              "          google.colab.kernel.accessAllowed ? 'block' : 'none';\n",
              "\n",
              "        async function convertToInteractive(key) {\n",
              "          const element = document.querySelector('#df-2f386c91-ac72-4f10-965d-06233059f6da');\n",
              "          const dataTable =\n",
              "            await google.colab.kernel.invokeFunction('convertToInteractive',\n",
              "                                                     [key], {});\n",
              "          if (!dataTable) return;\n",
              "\n",
              "          const docLinkHtml = 'Like what you see? Visit the ' +\n",
              "            '<a target=\"_blank\" href=https://colab.research.google.com/notebooks/data_table.ipynb>data table notebook</a>'\n",
              "            + ' to learn more about interactive tables.';\n",
              "          element.innerHTML = '';\n",
              "          dataTable['output_type'] = 'display_data';\n",
              "          await google.colab.output.renderOutput(dataTable, element);\n",
              "          const docLink = document.createElement('div');\n",
              "          docLink.innerHTML = docLinkHtml;\n",
              "          element.appendChild(docLink);\n",
              "        }\n",
              "      </script>\n",
              "    </div>\n",
              "  </div>\n",
              "  "
            ]
          },
          "metadata": {},
          "execution_count": 95
        }
      ]
    },
    {
      "cell_type": "code",
      "source": [
        "# Rolling\n",
        "assets[\"SMA 15\"] = assets[[\"Close SP500\"]].rolling(15).mean()\n",
        "assets"
      ],
      "metadata": {
        "colab": {
          "base_uri": "https://localhost:8080/",
          "height": 582
        },
        "id": "6KDnRVFTuE-l",
        "outputId": "41ef95e4-d611-4d27-dfb2-c7a3feae7930"
      },
      "execution_count": null,
      "outputs": [
        {
          "output_type": "stream",
          "name": "stderr",
          "text": [
            "<ipython-input-97-c1eb2c6deea6>:2: SettingWithCopyWarning: \n",
            "A value is trying to be set on a copy of a slice from a DataFrame.\n",
            "Try using .loc[row_indexer,col_indexer] = value instead\n",
            "\n",
            "See the caveats in the documentation: https://pandas.pydata.org/pandas-docs/stable/user_guide/indexing.html#returning-a-view-versus-a-copy\n",
            "  assets[\"SMA 15\"] = assets[[\"Close SP500\"]].rolling(15).mean()\n"
          ]
        },
        {
          "output_type": "execute_result",
          "data": {
            "text/plain": [
              "            Close DJI30 Close CAC40  Close SP500       SMA 15\n",
              "time                                                         \n",
              "2000-01-03   11357.5098   5917.3701    1455.2200          NaN\n",
              "2000-01-04   10997.9297   5672.0200    1399.4200          NaN\n",
              "2000-01-05   11122.6504   5479.7002    1402.1100          NaN\n",
              "2000-01-06   11253.2598   5450.1099    1403.4500          NaN\n",
              "2000-01-07   11522.5596   5539.6099    1441.4700          NaN\n",
              "...                 ...         ...          ...          ...\n",
              "2020-03-12   21200.6191   4044.2600    2420.8827  2445.100287\n",
              "2020-03-13   23185.6191   4118.3599    2418.0191  2444.029520\n",
              "2020-03-16   20188.5195   3881.4600    2426.6181  2443.003900\n",
              "2020-03-17   21237.3809   3991.7800    2436.5000  2442.964567\n",
              "2020-03-18   19898.9199   3754.8401    2398.1001  2440.551540\n",
              "\n",
              "[5047 rows x 4 columns]"
            ],
            "text/html": [
              "\n",
              "  <div id=\"df-4cd0370e-7719-42c2-b9e6-8ca3bd4a6673\">\n",
              "    <div class=\"colab-df-container\">\n",
              "      <div>\n",
              "<style scoped>\n",
              "    .dataframe tbody tr th:only-of-type {\n",
              "        vertical-align: middle;\n",
              "    }\n",
              "\n",
              "    .dataframe tbody tr th {\n",
              "        vertical-align: top;\n",
              "    }\n",
              "\n",
              "    .dataframe thead th {\n",
              "        text-align: right;\n",
              "    }\n",
              "</style>\n",
              "<table border=\"1\" class=\"dataframe\">\n",
              "  <thead>\n",
              "    <tr style=\"text-align: right;\">\n",
              "      <th></th>\n",
              "      <th>Close DJI30</th>\n",
              "      <th>Close CAC40</th>\n",
              "      <th>Close SP500</th>\n",
              "      <th>SMA 15</th>\n",
              "    </tr>\n",
              "    <tr>\n",
              "      <th>time</th>\n",
              "      <th></th>\n",
              "      <th></th>\n",
              "      <th></th>\n",
              "      <th></th>\n",
              "    </tr>\n",
              "  </thead>\n",
              "  <tbody>\n",
              "    <tr>\n",
              "      <th>2000-01-03</th>\n",
              "      <td>11357.5098</td>\n",
              "      <td>5917.3701</td>\n",
              "      <td>1455.2200</td>\n",
              "      <td>NaN</td>\n",
              "    </tr>\n",
              "    <tr>\n",
              "      <th>2000-01-04</th>\n",
              "      <td>10997.9297</td>\n",
              "      <td>5672.0200</td>\n",
              "      <td>1399.4200</td>\n",
              "      <td>NaN</td>\n",
              "    </tr>\n",
              "    <tr>\n",
              "      <th>2000-01-05</th>\n",
              "      <td>11122.6504</td>\n",
              "      <td>5479.7002</td>\n",
              "      <td>1402.1100</td>\n",
              "      <td>NaN</td>\n",
              "    </tr>\n",
              "    <tr>\n",
              "      <th>2000-01-06</th>\n",
              "      <td>11253.2598</td>\n",
              "      <td>5450.1099</td>\n",
              "      <td>1403.4500</td>\n",
              "      <td>NaN</td>\n",
              "    </tr>\n",
              "    <tr>\n",
              "      <th>2000-01-07</th>\n",
              "      <td>11522.5596</td>\n",
              "      <td>5539.6099</td>\n",
              "      <td>1441.4700</td>\n",
              "      <td>NaN</td>\n",
              "    </tr>\n",
              "    <tr>\n",
              "      <th>...</th>\n",
              "      <td>...</td>\n",
              "      <td>...</td>\n",
              "      <td>...</td>\n",
              "      <td>...</td>\n",
              "    </tr>\n",
              "    <tr>\n",
              "      <th>2020-03-12</th>\n",
              "      <td>21200.6191</td>\n",
              "      <td>4044.2600</td>\n",
              "      <td>2420.8827</td>\n",
              "      <td>2445.100287</td>\n",
              "    </tr>\n",
              "    <tr>\n",
              "      <th>2020-03-13</th>\n",
              "      <td>23185.6191</td>\n",
              "      <td>4118.3599</td>\n",
              "      <td>2418.0191</td>\n",
              "      <td>2444.029520</td>\n",
              "    </tr>\n",
              "    <tr>\n",
              "      <th>2020-03-16</th>\n",
              "      <td>20188.5195</td>\n",
              "      <td>3881.4600</td>\n",
              "      <td>2426.6181</td>\n",
              "      <td>2443.003900</td>\n",
              "    </tr>\n",
              "    <tr>\n",
              "      <th>2020-03-17</th>\n",
              "      <td>21237.3809</td>\n",
              "      <td>3991.7800</td>\n",
              "      <td>2436.5000</td>\n",
              "      <td>2442.964567</td>\n",
              "    </tr>\n",
              "    <tr>\n",
              "      <th>2020-03-18</th>\n",
              "      <td>19898.9199</td>\n",
              "      <td>3754.8401</td>\n",
              "      <td>2398.1001</td>\n",
              "      <td>2440.551540</td>\n",
              "    </tr>\n",
              "  </tbody>\n",
              "</table>\n",
              "<p>5047 rows × 4 columns</p>\n",
              "</div>\n",
              "      <button class=\"colab-df-convert\" onclick=\"convertToInteractive('df-4cd0370e-7719-42c2-b9e6-8ca3bd4a6673')\"\n",
              "              title=\"Convert this dataframe to an interactive table.\"\n",
              "              style=\"display:none;\">\n",
              "        \n",
              "  <svg xmlns=\"http://www.w3.org/2000/svg\" height=\"24px\"viewBox=\"0 0 24 24\"\n",
              "       width=\"24px\">\n",
              "    <path d=\"M0 0h24v24H0V0z\" fill=\"none\"/>\n",
              "    <path d=\"M18.56 5.44l.94 2.06.94-2.06 2.06-.94-2.06-.94-.94-2.06-.94 2.06-2.06.94zm-11 1L8.5 8.5l.94-2.06 2.06-.94-2.06-.94L8.5 2.5l-.94 2.06-2.06.94zm10 10l.94 2.06.94-2.06 2.06-.94-2.06-.94-.94-2.06-.94 2.06-2.06.94z\"/><path d=\"M17.41 7.96l-1.37-1.37c-.4-.4-.92-.59-1.43-.59-.52 0-1.04.2-1.43.59L10.3 9.45l-7.72 7.72c-.78.78-.78 2.05 0 2.83L4 21.41c.39.39.9.59 1.41.59.51 0 1.02-.2 1.41-.59l7.78-7.78 2.81-2.81c.8-.78.8-2.07 0-2.86zM5.41 20L4 18.59l7.72-7.72 1.47 1.35L5.41 20z\"/>\n",
              "  </svg>\n",
              "      </button>\n",
              "      \n",
              "  <style>\n",
              "    .colab-df-container {\n",
              "      display:flex;\n",
              "      flex-wrap:wrap;\n",
              "      gap: 12px;\n",
              "    }\n",
              "\n",
              "    .colab-df-convert {\n",
              "      background-color: #E8F0FE;\n",
              "      border: none;\n",
              "      border-radius: 50%;\n",
              "      cursor: pointer;\n",
              "      display: none;\n",
              "      fill: #1967D2;\n",
              "      height: 32px;\n",
              "      padding: 0 0 0 0;\n",
              "      width: 32px;\n",
              "    }\n",
              "\n",
              "    .colab-df-convert:hover {\n",
              "      background-color: #E2EBFA;\n",
              "      box-shadow: 0px 1px 2px rgba(60, 64, 67, 0.3), 0px 1px 3px 1px rgba(60, 64, 67, 0.15);\n",
              "      fill: #174EA6;\n",
              "    }\n",
              "\n",
              "    [theme=dark] .colab-df-convert {\n",
              "      background-color: #3B4455;\n",
              "      fill: #D2E3FC;\n",
              "    }\n",
              "\n",
              "    [theme=dark] .colab-df-convert:hover {\n",
              "      background-color: #434B5C;\n",
              "      box-shadow: 0px 1px 3px 1px rgba(0, 0, 0, 0.15);\n",
              "      filter: drop-shadow(0px 1px 2px rgba(0, 0, 0, 0.3));\n",
              "      fill: #FFFFFF;\n",
              "    }\n",
              "  </style>\n",
              "\n",
              "      <script>\n",
              "        const buttonEl =\n",
              "          document.querySelector('#df-4cd0370e-7719-42c2-b9e6-8ca3bd4a6673 button.colab-df-convert');\n",
              "        buttonEl.style.display =\n",
              "          google.colab.kernel.accessAllowed ? 'block' : 'none';\n",
              "\n",
              "        async function convertToInteractive(key) {\n",
              "          const element = document.querySelector('#df-4cd0370e-7719-42c2-b9e6-8ca3bd4a6673');\n",
              "          const dataTable =\n",
              "            await google.colab.kernel.invokeFunction('convertToInteractive',\n",
              "                                                     [key], {});\n",
              "          if (!dataTable) return;\n",
              "\n",
              "          const docLinkHtml = 'Like what you see? Visit the ' +\n",
              "            '<a target=\"_blank\" href=https://colab.research.google.com/notebooks/data_table.ipynb>data table notebook</a>'\n",
              "            + ' to learn more about interactive tables.';\n",
              "          element.innerHTML = '';\n",
              "          dataTable['output_type'] = 'display_data';\n",
              "          await google.colab.output.renderOutput(dataTable, element);\n",
              "          const docLink = document.createElement('div');\n",
              "          docLink.innerHTML = docLinkHtml;\n",
              "          element.appendChild(docLink);\n",
              "        }\n",
              "      </script>\n",
              "    </div>\n",
              "  </div>\n",
              "  "
            ]
          },
          "metadata": {},
          "execution_count": 97
        }
      ]
    },
    {
      "cell_type": "code",
      "source": [
        "# Shift\n",
        "assets[\"Close SP500\"].shift(1)"
      ],
      "metadata": {
        "colab": {
          "base_uri": "https://localhost:8080/"
        },
        "id": "XK80SMQLuGE4",
        "outputId": "9838d28c-e2bf-4b3e-979b-7f5489e77c5e"
      },
      "execution_count": null,
      "outputs": [
        {
          "output_type": "execute_result",
          "data": {
            "text/plain": [
              "time\n",
              "2000-01-03          NaN\n",
              "2000-01-04    1455.2200\n",
              "2000-01-05    1399.4200\n",
              "2000-01-06    1402.1100\n",
              "2000-01-07    1403.4500\n",
              "                ...    \n",
              "2020-03-12    2423.1280\n",
              "2020-03-13    2420.8827\n",
              "2020-03-16    2418.0191\n",
              "2020-03-17    2426.6181\n",
              "2020-03-18    2436.5000\n",
              "Name: Close SP500, Length: 5047, dtype: float64"
            ]
          },
          "metadata": {},
          "execution_count": 100
        }
      ]
    },
    {
      "cell_type": "code",
      "source": [
        "# Group by mean\n",
        "arr = [[1, 10],\n",
        "       [1, 10],\n",
        "       [3, 15]]\n",
        "       \n",
        "df = pd.DataFrame(arr, columns = [\"num\", \"val\"])\n",
        "\n",
        "df.groupby(by = \"num\").mean()"
      ],
      "metadata": {
        "colab": {
          "base_uri": "https://localhost:8080/",
          "height": 143
        },
        "id": "MN_bVCWFvgVx",
        "outputId": "2baf7a44-0aa2-45c0-9078-35a1861f86ff"
      },
      "execution_count": null,
      "outputs": [
        {
          "output_type": "execute_result",
          "data": {
            "text/plain": [
              "      val\n",
              "num      \n",
              "1    10.0\n",
              "3    15.0"
            ],
            "text/html": [
              "\n",
              "  <div id=\"df-537d3a25-db83-49f0-86a4-eb618226b702\">\n",
              "    <div class=\"colab-df-container\">\n",
              "      <div>\n",
              "<style scoped>\n",
              "    .dataframe tbody tr th:only-of-type {\n",
              "        vertical-align: middle;\n",
              "    }\n",
              "\n",
              "    .dataframe tbody tr th {\n",
              "        vertical-align: top;\n",
              "    }\n",
              "\n",
              "    .dataframe thead th {\n",
              "        text-align: right;\n",
              "    }\n",
              "</style>\n",
              "<table border=\"1\" class=\"dataframe\">\n",
              "  <thead>\n",
              "    <tr style=\"text-align: right;\">\n",
              "      <th></th>\n",
              "      <th>val</th>\n",
              "    </tr>\n",
              "    <tr>\n",
              "      <th>num</th>\n",
              "      <th></th>\n",
              "    </tr>\n",
              "  </thead>\n",
              "  <tbody>\n",
              "    <tr>\n",
              "      <th>1</th>\n",
              "      <td>10.0</td>\n",
              "    </tr>\n",
              "    <tr>\n",
              "      <th>3</th>\n",
              "      <td>15.0</td>\n",
              "    </tr>\n",
              "  </tbody>\n",
              "</table>\n",
              "</div>\n",
              "      <button class=\"colab-df-convert\" onclick=\"convertToInteractive('df-537d3a25-db83-49f0-86a4-eb618226b702')\"\n",
              "              title=\"Convert this dataframe to an interactive table.\"\n",
              "              style=\"display:none;\">\n",
              "        \n",
              "  <svg xmlns=\"http://www.w3.org/2000/svg\" height=\"24px\"viewBox=\"0 0 24 24\"\n",
              "       width=\"24px\">\n",
              "    <path d=\"M0 0h24v24H0V0z\" fill=\"none\"/>\n",
              "    <path d=\"M18.56 5.44l.94 2.06.94-2.06 2.06-.94-2.06-.94-.94-2.06-.94 2.06-2.06.94zm-11 1L8.5 8.5l.94-2.06 2.06-.94-2.06-.94L8.5 2.5l-.94 2.06-2.06.94zm10 10l.94 2.06.94-2.06 2.06-.94-2.06-.94-.94-2.06-.94 2.06-2.06.94z\"/><path d=\"M17.41 7.96l-1.37-1.37c-.4-.4-.92-.59-1.43-.59-.52 0-1.04.2-1.43.59L10.3 9.45l-7.72 7.72c-.78.78-.78 2.05 0 2.83L4 21.41c.39.39.9.59 1.41.59.51 0 1.02-.2 1.41-.59l7.78-7.78 2.81-2.81c.8-.78.8-2.07 0-2.86zM5.41 20L4 18.59l7.72-7.72 1.47 1.35L5.41 20z\"/>\n",
              "  </svg>\n",
              "      </button>\n",
              "      \n",
              "  <style>\n",
              "    .colab-df-container {\n",
              "      display:flex;\n",
              "      flex-wrap:wrap;\n",
              "      gap: 12px;\n",
              "    }\n",
              "\n",
              "    .colab-df-convert {\n",
              "      background-color: #E8F0FE;\n",
              "      border: none;\n",
              "      border-radius: 50%;\n",
              "      cursor: pointer;\n",
              "      display: none;\n",
              "      fill: #1967D2;\n",
              "      height: 32px;\n",
              "      padding: 0 0 0 0;\n",
              "      width: 32px;\n",
              "    }\n",
              "\n",
              "    .colab-df-convert:hover {\n",
              "      background-color: #E2EBFA;\n",
              "      box-shadow: 0px 1px 2px rgba(60, 64, 67, 0.3), 0px 1px 3px 1px rgba(60, 64, 67, 0.15);\n",
              "      fill: #174EA6;\n",
              "    }\n",
              "\n",
              "    [theme=dark] .colab-df-convert {\n",
              "      background-color: #3B4455;\n",
              "      fill: #D2E3FC;\n",
              "    }\n",
              "\n",
              "    [theme=dark] .colab-df-convert:hover {\n",
              "      background-color: #434B5C;\n",
              "      box-shadow: 0px 1px 3px 1px rgba(0, 0, 0, 0.15);\n",
              "      filter: drop-shadow(0px 1px 2px rgba(0, 0, 0, 0.3));\n",
              "      fill: #FFFFFF;\n",
              "    }\n",
              "  </style>\n",
              "\n",
              "      <script>\n",
              "        const buttonEl =\n",
              "          document.querySelector('#df-537d3a25-db83-49f0-86a4-eb618226b702 button.colab-df-convert');\n",
              "        buttonEl.style.display =\n",
              "          google.colab.kernel.accessAllowed ? 'block' : 'none';\n",
              "\n",
              "        async function convertToInteractive(key) {\n",
              "          const element = document.querySelector('#df-537d3a25-db83-49f0-86a4-eb618226b702');\n",
              "          const dataTable =\n",
              "            await google.colab.kernel.invokeFunction('convertToInteractive',\n",
              "                                                     [key], {});\n",
              "          if (!dataTable) return;\n",
              "\n",
              "          const docLinkHtml = 'Like what you see? Visit the ' +\n",
              "            '<a target=\"_blank\" href=https://colab.research.google.com/notebooks/data_table.ipynb>data table notebook</a>'\n",
              "            + ' to learn more about interactive tables.';\n",
              "          element.innerHTML = '';\n",
              "          dataTable['output_type'] = 'display_data';\n",
              "          await google.colab.output.renderOutput(dataTable, element);\n",
              "          const docLink = document.createElement('div');\n",
              "          docLink.innerHTML = docLinkHtml;\n",
              "          element.appendChild(docLink);\n",
              "        }\n",
              "      </script>\n",
              "    </div>\n",
              "  </div>\n",
              "  "
            ]
          },
          "metadata": {},
          "execution_count": 102
        }
      ]
    },
    {
      "cell_type": "code",
      "source": [
        "# Groupby by sum\n",
        "df.groupby(by = \"num\").sum()"
      ],
      "metadata": {
        "colab": {
          "base_uri": "https://localhost:8080/",
          "height": 143
        },
        "id": "Mz6Md4cYvnwl",
        "outputId": "1d524d07-20fd-49a1-a6ea-7310a9858b94"
      },
      "execution_count": null,
      "outputs": [
        {
          "output_type": "execute_result",
          "data": {
            "text/plain": [
              "     val\n",
              "num     \n",
              "1     20\n",
              "3     15"
            ],
            "text/html": [
              "\n",
              "  <div id=\"df-d752ad9f-db78-4a62-a40a-a2261f7303d4\">\n",
              "    <div class=\"colab-df-container\">\n",
              "      <div>\n",
              "<style scoped>\n",
              "    .dataframe tbody tr th:only-of-type {\n",
              "        vertical-align: middle;\n",
              "    }\n",
              "\n",
              "    .dataframe tbody tr th {\n",
              "        vertical-align: top;\n",
              "    }\n",
              "\n",
              "    .dataframe thead th {\n",
              "        text-align: right;\n",
              "    }\n",
              "</style>\n",
              "<table border=\"1\" class=\"dataframe\">\n",
              "  <thead>\n",
              "    <tr style=\"text-align: right;\">\n",
              "      <th></th>\n",
              "      <th>val</th>\n",
              "    </tr>\n",
              "    <tr>\n",
              "      <th>num</th>\n",
              "      <th></th>\n",
              "    </tr>\n",
              "  </thead>\n",
              "  <tbody>\n",
              "    <tr>\n",
              "      <th>1</th>\n",
              "      <td>20</td>\n",
              "    </tr>\n",
              "    <tr>\n",
              "      <th>3</th>\n",
              "      <td>15</td>\n",
              "    </tr>\n",
              "  </tbody>\n",
              "</table>\n",
              "</div>\n",
              "      <button class=\"colab-df-convert\" onclick=\"convertToInteractive('df-d752ad9f-db78-4a62-a40a-a2261f7303d4')\"\n",
              "              title=\"Convert this dataframe to an interactive table.\"\n",
              "              style=\"display:none;\">\n",
              "        \n",
              "  <svg xmlns=\"http://www.w3.org/2000/svg\" height=\"24px\"viewBox=\"0 0 24 24\"\n",
              "       width=\"24px\">\n",
              "    <path d=\"M0 0h24v24H0V0z\" fill=\"none\"/>\n",
              "    <path d=\"M18.56 5.44l.94 2.06.94-2.06 2.06-.94-2.06-.94-.94-2.06-.94 2.06-2.06.94zm-11 1L8.5 8.5l.94-2.06 2.06-.94-2.06-.94L8.5 2.5l-.94 2.06-2.06.94zm10 10l.94 2.06.94-2.06 2.06-.94-2.06-.94-.94-2.06-.94 2.06-2.06.94z\"/><path d=\"M17.41 7.96l-1.37-1.37c-.4-.4-.92-.59-1.43-.59-.52 0-1.04.2-1.43.59L10.3 9.45l-7.72 7.72c-.78.78-.78 2.05 0 2.83L4 21.41c.39.39.9.59 1.41.59.51 0 1.02-.2 1.41-.59l7.78-7.78 2.81-2.81c.8-.78.8-2.07 0-2.86zM5.41 20L4 18.59l7.72-7.72 1.47 1.35L5.41 20z\"/>\n",
              "  </svg>\n",
              "      </button>\n",
              "      \n",
              "  <style>\n",
              "    .colab-df-container {\n",
              "      display:flex;\n",
              "      flex-wrap:wrap;\n",
              "      gap: 12px;\n",
              "    }\n",
              "\n",
              "    .colab-df-convert {\n",
              "      background-color: #E8F0FE;\n",
              "      border: none;\n",
              "      border-radius: 50%;\n",
              "      cursor: pointer;\n",
              "      display: none;\n",
              "      fill: #1967D2;\n",
              "      height: 32px;\n",
              "      padding: 0 0 0 0;\n",
              "      width: 32px;\n",
              "    }\n",
              "\n",
              "    .colab-df-convert:hover {\n",
              "      background-color: #E2EBFA;\n",
              "      box-shadow: 0px 1px 2px rgba(60, 64, 67, 0.3), 0px 1px 3px 1px rgba(60, 64, 67, 0.15);\n",
              "      fill: #174EA6;\n",
              "    }\n",
              "\n",
              "    [theme=dark] .colab-df-convert {\n",
              "      background-color: #3B4455;\n",
              "      fill: #D2E3FC;\n",
              "    }\n",
              "\n",
              "    [theme=dark] .colab-df-convert:hover {\n",
              "      background-color: #434B5C;\n",
              "      box-shadow: 0px 1px 3px 1px rgba(0, 0, 0, 0.15);\n",
              "      filter: drop-shadow(0px 1px 2px rgba(0, 0, 0, 0.3));\n",
              "      fill: #FFFFFF;\n",
              "    }\n",
              "  </style>\n",
              "\n",
              "      <script>\n",
              "        const buttonEl =\n",
              "          document.querySelector('#df-d752ad9f-db78-4a62-a40a-a2261f7303d4 button.colab-df-convert');\n",
              "        buttonEl.style.display =\n",
              "          google.colab.kernel.accessAllowed ? 'block' : 'none';\n",
              "\n",
              "        async function convertToInteractive(key) {\n",
              "          const element = document.querySelector('#df-d752ad9f-db78-4a62-a40a-a2261f7303d4');\n",
              "          const dataTable =\n",
              "            await google.colab.kernel.invokeFunction('convertToInteractive',\n",
              "                                                     [key], {});\n",
              "          if (!dataTable) return;\n",
              "\n",
              "          const docLinkHtml = 'Like what you see? Visit the ' +\n",
              "            '<a target=\"_blank\" href=https://colab.research.google.com/notebooks/data_table.ipynb>data table notebook</a>'\n",
              "            + ' to learn more about interactive tables.';\n",
              "          element.innerHTML = '';\n",
              "          dataTable['output_type'] = 'display_data';\n",
              "          await google.colab.output.renderOutput(dataTable, element);\n",
              "          const docLink = document.createElement('div');\n",
              "          docLink.innerHTML = docLinkHtml;\n",
              "          element.appendChild(docLink);\n",
              "        }\n",
              "      </script>\n",
              "    </div>\n",
              "  </div>\n",
              "  "
            ]
          },
          "metadata": {},
          "execution_count": 104
        }
      ]
    },
    {
      "cell_type": "code",
      "source": [
        "# Groupy by std\n",
        "df.groupby(by = \"num\").std()"
      ],
      "metadata": {
        "colab": {
          "base_uri": "https://localhost:8080/",
          "height": 143
        },
        "id": "4edni6D5v9Lh",
        "outputId": "310790cc-68a1-487e-b12b-64d015097306"
      },
      "execution_count": null,
      "outputs": [
        {
          "output_type": "execute_result",
          "data": {
            "text/plain": [
              "     val\n",
              "num     \n",
              "1    0.0\n",
              "3    NaN"
            ],
            "text/html": [
              "\n",
              "  <div id=\"df-c60aae66-63b0-4844-8fe7-cf76cbde07e0\">\n",
              "    <div class=\"colab-df-container\">\n",
              "      <div>\n",
              "<style scoped>\n",
              "    .dataframe tbody tr th:only-of-type {\n",
              "        vertical-align: middle;\n",
              "    }\n",
              "\n",
              "    .dataframe tbody tr th {\n",
              "        vertical-align: top;\n",
              "    }\n",
              "\n",
              "    .dataframe thead th {\n",
              "        text-align: right;\n",
              "    }\n",
              "</style>\n",
              "<table border=\"1\" class=\"dataframe\">\n",
              "  <thead>\n",
              "    <tr style=\"text-align: right;\">\n",
              "      <th></th>\n",
              "      <th>val</th>\n",
              "    </tr>\n",
              "    <tr>\n",
              "      <th>num</th>\n",
              "      <th></th>\n",
              "    </tr>\n",
              "  </thead>\n",
              "  <tbody>\n",
              "    <tr>\n",
              "      <th>1</th>\n",
              "      <td>0.0</td>\n",
              "    </tr>\n",
              "    <tr>\n",
              "      <th>3</th>\n",
              "      <td>NaN</td>\n",
              "    </tr>\n",
              "  </tbody>\n",
              "</table>\n",
              "</div>\n",
              "      <button class=\"colab-df-convert\" onclick=\"convertToInteractive('df-c60aae66-63b0-4844-8fe7-cf76cbde07e0')\"\n",
              "              title=\"Convert this dataframe to an interactive table.\"\n",
              "              style=\"display:none;\">\n",
              "        \n",
              "  <svg xmlns=\"http://www.w3.org/2000/svg\" height=\"24px\"viewBox=\"0 0 24 24\"\n",
              "       width=\"24px\">\n",
              "    <path d=\"M0 0h24v24H0V0z\" fill=\"none\"/>\n",
              "    <path d=\"M18.56 5.44l.94 2.06.94-2.06 2.06-.94-2.06-.94-.94-2.06-.94 2.06-2.06.94zm-11 1L8.5 8.5l.94-2.06 2.06-.94-2.06-.94L8.5 2.5l-.94 2.06-2.06.94zm10 10l.94 2.06.94-2.06 2.06-.94-2.06-.94-.94-2.06-.94 2.06-2.06.94z\"/><path d=\"M17.41 7.96l-1.37-1.37c-.4-.4-.92-.59-1.43-.59-.52 0-1.04.2-1.43.59L10.3 9.45l-7.72 7.72c-.78.78-.78 2.05 0 2.83L4 21.41c.39.39.9.59 1.41.59.51 0 1.02-.2 1.41-.59l7.78-7.78 2.81-2.81c.8-.78.8-2.07 0-2.86zM5.41 20L4 18.59l7.72-7.72 1.47 1.35L5.41 20z\"/>\n",
              "  </svg>\n",
              "      </button>\n",
              "      \n",
              "  <style>\n",
              "    .colab-df-container {\n",
              "      display:flex;\n",
              "      flex-wrap:wrap;\n",
              "      gap: 12px;\n",
              "    }\n",
              "\n",
              "    .colab-df-convert {\n",
              "      background-color: #E8F0FE;\n",
              "      border: none;\n",
              "      border-radius: 50%;\n",
              "      cursor: pointer;\n",
              "      display: none;\n",
              "      fill: #1967D2;\n",
              "      height: 32px;\n",
              "      padding: 0 0 0 0;\n",
              "      width: 32px;\n",
              "    }\n",
              "\n",
              "    .colab-df-convert:hover {\n",
              "      background-color: #E2EBFA;\n",
              "      box-shadow: 0px 1px 2px rgba(60, 64, 67, 0.3), 0px 1px 3px 1px rgba(60, 64, 67, 0.15);\n",
              "      fill: #174EA6;\n",
              "    }\n",
              "\n",
              "    [theme=dark] .colab-df-convert {\n",
              "      background-color: #3B4455;\n",
              "      fill: #D2E3FC;\n",
              "    }\n",
              "\n",
              "    [theme=dark] .colab-df-convert:hover {\n",
              "      background-color: #434B5C;\n",
              "      box-shadow: 0px 1px 3px 1px rgba(0, 0, 0, 0.15);\n",
              "      filter: drop-shadow(0px 1px 2px rgba(0, 0, 0, 0.3));\n",
              "      fill: #FFFFFF;\n",
              "    }\n",
              "  </style>\n",
              "\n",
              "      <script>\n",
              "        const buttonEl =\n",
              "          document.querySelector('#df-c60aae66-63b0-4844-8fe7-cf76cbde07e0 button.colab-df-convert');\n",
              "        buttonEl.style.display =\n",
              "          google.colab.kernel.accessAllowed ? 'block' : 'none';\n",
              "\n",
              "        async function convertToInteractive(key) {\n",
              "          const element = document.querySelector('#df-c60aae66-63b0-4844-8fe7-cf76cbde07e0');\n",
              "          const dataTable =\n",
              "            await google.colab.kernel.invokeFunction('convertToInteractive',\n",
              "                                                     [key], {});\n",
              "          if (!dataTable) return;\n",
              "\n",
              "          const docLinkHtml = 'Like what you see? Visit the ' +\n",
              "            '<a target=\"_blank\" href=https://colab.research.google.com/notebooks/data_table.ipynb>data table notebook</a>'\n",
              "            + ' to learn more about interactive tables.';\n",
              "          element.innerHTML = '';\n",
              "          dataTable['output_type'] = 'display_data';\n",
              "          await google.colab.output.renderOutput(dataTable, element);\n",
              "          const docLink = document.createElement('div');\n",
              "          docLink.innerHTML = docLinkHtml;\n",
              "          element.appendChild(docLink);\n",
              "        }\n",
              "      </script>\n",
              "    </div>\n",
              "  </div>\n",
              "  "
            ]
          },
          "metadata": {},
          "execution_count": 105
        }
      ]
    },
    {
      "cell_type": "markdown",
      "source": [
        "# Iloc & Loc"
      ],
      "metadata": {
        "id": "i7v9G4yhwNIx"
      }
    },
    {
      "cell_type": "markdown",
      "source": [
        "loc is label-based, which means that you have to specify rows and columns based on their row and column labels. iloc is integer index based, so you have to specify rows and columns by their integer index like you did in the previous exercise"
      ],
      "metadata": {
        "id": "Z8Y22q2EyYkG"
      }
    },
    {
      "cell_type": "code",
      "source": [
        "# Slicing\n",
        "assets.iloc[0:1500, 0:10]"
      ],
      "metadata": {
        "colab": {
          "base_uri": "https://localhost:8080/",
          "height": 455
        },
        "id": "GBOEzdwzwK1w",
        "outputId": "a49431f1-8bc1-4d51-851c-ab884fe4b7d3"
      },
      "execution_count": null,
      "outputs": [
        {
          "output_type": "execute_result",
          "data": {
            "text/plain": [
              "            Close DJI30 Close CAC40  Close SP500       SMA 15\n",
              "time                                                         \n",
              "2000-01-03   11357.5098   5917.3701    1455.2200          NaN\n",
              "2000-01-04   10997.9297   5672.0200    1399.4200          NaN\n",
              "2000-01-05   11122.6504   5479.7002    1402.1100          NaN\n",
              "2000-01-06   11253.2598   5450.1099    1403.4500          NaN\n",
              "2000-01-07   11522.5596   5539.6099    1441.4700          NaN\n",
              "...                 ...         ...          ...          ...\n",
              "2005-12-13   10823.7197   4693.3999    1267.4301  1261.032680\n",
              "2005-12-14   10883.5098   4674.8501    1272.7400  1261.800013\n",
              "2005-12-15   10881.6699   4673.1401    1270.9399  1262.155340\n",
              "2005-12-16   10875.5898   4704.4102    1267.3199  1262.093333\n",
              "2005-12-19   10836.5303   4694.8599    1259.9200  1262.257333\n",
              "\n",
              "[1500 rows x 4 columns]"
            ],
            "text/html": [
              "\n",
              "  <div id=\"df-9933a029-fe39-404d-8cc1-5d058dae67da\">\n",
              "    <div class=\"colab-df-container\">\n",
              "      <div>\n",
              "<style scoped>\n",
              "    .dataframe tbody tr th:only-of-type {\n",
              "        vertical-align: middle;\n",
              "    }\n",
              "\n",
              "    .dataframe tbody tr th {\n",
              "        vertical-align: top;\n",
              "    }\n",
              "\n",
              "    .dataframe thead th {\n",
              "        text-align: right;\n",
              "    }\n",
              "</style>\n",
              "<table border=\"1\" class=\"dataframe\">\n",
              "  <thead>\n",
              "    <tr style=\"text-align: right;\">\n",
              "      <th></th>\n",
              "      <th>Close DJI30</th>\n",
              "      <th>Close CAC40</th>\n",
              "      <th>Close SP500</th>\n",
              "      <th>SMA 15</th>\n",
              "    </tr>\n",
              "    <tr>\n",
              "      <th>time</th>\n",
              "      <th></th>\n",
              "      <th></th>\n",
              "      <th></th>\n",
              "      <th></th>\n",
              "    </tr>\n",
              "  </thead>\n",
              "  <tbody>\n",
              "    <tr>\n",
              "      <th>2000-01-03</th>\n",
              "      <td>11357.5098</td>\n",
              "      <td>5917.3701</td>\n",
              "      <td>1455.2200</td>\n",
              "      <td>NaN</td>\n",
              "    </tr>\n",
              "    <tr>\n",
              "      <th>2000-01-04</th>\n",
              "      <td>10997.9297</td>\n",
              "      <td>5672.0200</td>\n",
              "      <td>1399.4200</td>\n",
              "      <td>NaN</td>\n",
              "    </tr>\n",
              "    <tr>\n",
              "      <th>2000-01-05</th>\n",
              "      <td>11122.6504</td>\n",
              "      <td>5479.7002</td>\n",
              "      <td>1402.1100</td>\n",
              "      <td>NaN</td>\n",
              "    </tr>\n",
              "    <tr>\n",
              "      <th>2000-01-06</th>\n",
              "      <td>11253.2598</td>\n",
              "      <td>5450.1099</td>\n",
              "      <td>1403.4500</td>\n",
              "      <td>NaN</td>\n",
              "    </tr>\n",
              "    <tr>\n",
              "      <th>2000-01-07</th>\n",
              "      <td>11522.5596</td>\n",
              "      <td>5539.6099</td>\n",
              "      <td>1441.4700</td>\n",
              "      <td>NaN</td>\n",
              "    </tr>\n",
              "    <tr>\n",
              "      <th>...</th>\n",
              "      <td>...</td>\n",
              "      <td>...</td>\n",
              "      <td>...</td>\n",
              "      <td>...</td>\n",
              "    </tr>\n",
              "    <tr>\n",
              "      <th>2005-12-13</th>\n",
              "      <td>10823.7197</td>\n",
              "      <td>4693.3999</td>\n",
              "      <td>1267.4301</td>\n",
              "      <td>1261.032680</td>\n",
              "    </tr>\n",
              "    <tr>\n",
              "      <th>2005-12-14</th>\n",
              "      <td>10883.5098</td>\n",
              "      <td>4674.8501</td>\n",
              "      <td>1272.7400</td>\n",
              "      <td>1261.800013</td>\n",
              "    </tr>\n",
              "    <tr>\n",
              "      <th>2005-12-15</th>\n",
              "      <td>10881.6699</td>\n",
              "      <td>4673.1401</td>\n",
              "      <td>1270.9399</td>\n",
              "      <td>1262.155340</td>\n",
              "    </tr>\n",
              "    <tr>\n",
              "      <th>2005-12-16</th>\n",
              "      <td>10875.5898</td>\n",
              "      <td>4704.4102</td>\n",
              "      <td>1267.3199</td>\n",
              "      <td>1262.093333</td>\n",
              "    </tr>\n",
              "    <tr>\n",
              "      <th>2005-12-19</th>\n",
              "      <td>10836.5303</td>\n",
              "      <td>4694.8599</td>\n",
              "      <td>1259.9200</td>\n",
              "      <td>1262.257333</td>\n",
              "    </tr>\n",
              "  </tbody>\n",
              "</table>\n",
              "<p>1500 rows × 4 columns</p>\n",
              "</div>\n",
              "      <button class=\"colab-df-convert\" onclick=\"convertToInteractive('df-9933a029-fe39-404d-8cc1-5d058dae67da')\"\n",
              "              title=\"Convert this dataframe to an interactive table.\"\n",
              "              style=\"display:none;\">\n",
              "        \n",
              "  <svg xmlns=\"http://www.w3.org/2000/svg\" height=\"24px\"viewBox=\"0 0 24 24\"\n",
              "       width=\"24px\">\n",
              "    <path d=\"M0 0h24v24H0V0z\" fill=\"none\"/>\n",
              "    <path d=\"M18.56 5.44l.94 2.06.94-2.06 2.06-.94-2.06-.94-.94-2.06-.94 2.06-2.06.94zm-11 1L8.5 8.5l.94-2.06 2.06-.94-2.06-.94L8.5 2.5l-.94 2.06-2.06.94zm10 10l.94 2.06.94-2.06 2.06-.94-2.06-.94-.94-2.06-.94 2.06-2.06.94z\"/><path d=\"M17.41 7.96l-1.37-1.37c-.4-.4-.92-.59-1.43-.59-.52 0-1.04.2-1.43.59L10.3 9.45l-7.72 7.72c-.78.78-.78 2.05 0 2.83L4 21.41c.39.39.9.59 1.41.59.51 0 1.02-.2 1.41-.59l7.78-7.78 2.81-2.81c.8-.78.8-2.07 0-2.86zM5.41 20L4 18.59l7.72-7.72 1.47 1.35L5.41 20z\"/>\n",
              "  </svg>\n",
              "      </button>\n",
              "      \n",
              "  <style>\n",
              "    .colab-df-container {\n",
              "      display:flex;\n",
              "      flex-wrap:wrap;\n",
              "      gap: 12px;\n",
              "    }\n",
              "\n",
              "    .colab-df-convert {\n",
              "      background-color: #E8F0FE;\n",
              "      border: none;\n",
              "      border-radius: 50%;\n",
              "      cursor: pointer;\n",
              "      display: none;\n",
              "      fill: #1967D2;\n",
              "      height: 32px;\n",
              "      padding: 0 0 0 0;\n",
              "      width: 32px;\n",
              "    }\n",
              "\n",
              "    .colab-df-convert:hover {\n",
              "      background-color: #E2EBFA;\n",
              "      box-shadow: 0px 1px 2px rgba(60, 64, 67, 0.3), 0px 1px 3px 1px rgba(60, 64, 67, 0.15);\n",
              "      fill: #174EA6;\n",
              "    }\n",
              "\n",
              "    [theme=dark] .colab-df-convert {\n",
              "      background-color: #3B4455;\n",
              "      fill: #D2E3FC;\n",
              "    }\n",
              "\n",
              "    [theme=dark] .colab-df-convert:hover {\n",
              "      background-color: #434B5C;\n",
              "      box-shadow: 0px 1px 3px 1px rgba(0, 0, 0, 0.15);\n",
              "      filter: drop-shadow(0px 1px 2px rgba(0, 0, 0, 0.3));\n",
              "      fill: #FFFFFF;\n",
              "    }\n",
              "  </style>\n",
              "\n",
              "      <script>\n",
              "        const buttonEl =\n",
              "          document.querySelector('#df-9933a029-fe39-404d-8cc1-5d058dae67da button.colab-df-convert');\n",
              "        buttonEl.style.display =\n",
              "          google.colab.kernel.accessAllowed ? 'block' : 'none';\n",
              "\n",
              "        async function convertToInteractive(key) {\n",
              "          const element = document.querySelector('#df-9933a029-fe39-404d-8cc1-5d058dae67da');\n",
              "          const dataTable =\n",
              "            await google.colab.kernel.invokeFunction('convertToInteractive',\n",
              "                                                     [key], {});\n",
              "          if (!dataTable) return;\n",
              "\n",
              "          const docLinkHtml = 'Like what you see? Visit the ' +\n",
              "            '<a target=\"_blank\" href=https://colab.research.google.com/notebooks/data_table.ipynb>data table notebook</a>'\n",
              "            + ' to learn more about interactive tables.';\n",
              "          element.innerHTML = '';\n",
              "          dataTable['output_type'] = 'display_data';\n",
              "          await google.colab.output.renderOutput(dataTable, element);\n",
              "          const docLink = document.createElement('div');\n",
              "          docLink.innerHTML = docLinkHtml;\n",
              "          element.appendChild(docLink);\n",
              "        }\n",
              "      </script>\n",
              "    </div>\n",
              "  </div>\n",
              "  "
            ]
          },
          "metadata": {},
          "execution_count": 110
        }
      ]
    },
    {
      "cell_type": "code",
      "source": [
        "# Conditional by dates\n",
        "assets.loc[\"2010-01-01\":\"2015-01-01\"]"
      ],
      "metadata": {
        "colab": {
          "base_uri": "https://localhost:8080/",
          "height": 455
        },
        "id": "Bpva8gFkwY0X",
        "outputId": "7f74326f-5b2f-4ae3-c974-ac58101e3959"
      },
      "execution_count": null,
      "outputs": [
        {
          "output_type": "execute_result",
          "data": {
            "text/plain": [
              "            Close DJI30 Close CAC40  Close SP500       SMA 15\n",
              "time                                                         \n",
              "2010-01-04   10583.9600   4013.9700    1132.9900  1116.254013\n",
              "2010-01-05   10572.0195   4012.9099    1136.5200  1118.261347\n",
              "2010-01-06   10573.6797   4017.6699    1137.1400  1119.796680\n",
              "2010-01-07   10606.8604   4024.8000    1141.6899  1122.047333\n",
              "2010-01-08   10618.1904   4045.1399    1144.9800  1124.433993\n",
              "...                 ...         ...          ...          ...\n",
              "2014-12-23   18024.1699   4314.9702    2082.1699  2044.893340\n",
              "2014-12-24   18030.2109   4295.8501    2081.8799  2045.396660\n",
              "2014-12-29   18038.2305   4317.9302    2090.5701  2046.640007\n",
              "2014-12-30   17983.0703   4245.5400    2080.3501  2046.972007\n",
              "2014-12-31   17823.0703   4272.7500    2058.8999  2046.877993\n",
              "\n",
              "[1245 rows x 4 columns]"
            ],
            "text/html": [
              "\n",
              "  <div id=\"df-53245574-de5c-4f72-adb7-19d22a504e0b\">\n",
              "    <div class=\"colab-df-container\">\n",
              "      <div>\n",
              "<style scoped>\n",
              "    .dataframe tbody tr th:only-of-type {\n",
              "        vertical-align: middle;\n",
              "    }\n",
              "\n",
              "    .dataframe tbody tr th {\n",
              "        vertical-align: top;\n",
              "    }\n",
              "\n",
              "    .dataframe thead th {\n",
              "        text-align: right;\n",
              "    }\n",
              "</style>\n",
              "<table border=\"1\" class=\"dataframe\">\n",
              "  <thead>\n",
              "    <tr style=\"text-align: right;\">\n",
              "      <th></th>\n",
              "      <th>Close DJI30</th>\n",
              "      <th>Close CAC40</th>\n",
              "      <th>Close SP500</th>\n",
              "      <th>SMA 15</th>\n",
              "    </tr>\n",
              "    <tr>\n",
              "      <th>time</th>\n",
              "      <th></th>\n",
              "      <th></th>\n",
              "      <th></th>\n",
              "      <th></th>\n",
              "    </tr>\n",
              "  </thead>\n",
              "  <tbody>\n",
              "    <tr>\n",
              "      <th>2010-01-04</th>\n",
              "      <td>10583.9600</td>\n",
              "      <td>4013.9700</td>\n",
              "      <td>1132.9900</td>\n",
              "      <td>1116.254013</td>\n",
              "    </tr>\n",
              "    <tr>\n",
              "      <th>2010-01-05</th>\n",
              "      <td>10572.0195</td>\n",
              "      <td>4012.9099</td>\n",
              "      <td>1136.5200</td>\n",
              "      <td>1118.261347</td>\n",
              "    </tr>\n",
              "    <tr>\n",
              "      <th>2010-01-06</th>\n",
              "      <td>10573.6797</td>\n",
              "      <td>4017.6699</td>\n",
              "      <td>1137.1400</td>\n",
              "      <td>1119.796680</td>\n",
              "    </tr>\n",
              "    <tr>\n",
              "      <th>2010-01-07</th>\n",
              "      <td>10606.8604</td>\n",
              "      <td>4024.8000</td>\n",
              "      <td>1141.6899</td>\n",
              "      <td>1122.047333</td>\n",
              "    </tr>\n",
              "    <tr>\n",
              "      <th>2010-01-08</th>\n",
              "      <td>10618.1904</td>\n",
              "      <td>4045.1399</td>\n",
              "      <td>1144.9800</td>\n",
              "      <td>1124.433993</td>\n",
              "    </tr>\n",
              "    <tr>\n",
              "      <th>...</th>\n",
              "      <td>...</td>\n",
              "      <td>...</td>\n",
              "      <td>...</td>\n",
              "      <td>...</td>\n",
              "    </tr>\n",
              "    <tr>\n",
              "      <th>2014-12-23</th>\n",
              "      <td>18024.1699</td>\n",
              "      <td>4314.9702</td>\n",
              "      <td>2082.1699</td>\n",
              "      <td>2044.893340</td>\n",
              "    </tr>\n",
              "    <tr>\n",
              "      <th>2014-12-24</th>\n",
              "      <td>18030.2109</td>\n",
              "      <td>4295.8501</td>\n",
              "      <td>2081.8799</td>\n",
              "      <td>2045.396660</td>\n",
              "    </tr>\n",
              "    <tr>\n",
              "      <th>2014-12-29</th>\n",
              "      <td>18038.2305</td>\n",
              "      <td>4317.9302</td>\n",
              "      <td>2090.5701</td>\n",
              "      <td>2046.640007</td>\n",
              "    </tr>\n",
              "    <tr>\n",
              "      <th>2014-12-30</th>\n",
              "      <td>17983.0703</td>\n",
              "      <td>4245.5400</td>\n",
              "      <td>2080.3501</td>\n",
              "      <td>2046.972007</td>\n",
              "    </tr>\n",
              "    <tr>\n",
              "      <th>2014-12-31</th>\n",
              "      <td>17823.0703</td>\n",
              "      <td>4272.7500</td>\n",
              "      <td>2058.8999</td>\n",
              "      <td>2046.877993</td>\n",
              "    </tr>\n",
              "  </tbody>\n",
              "</table>\n",
              "<p>1245 rows × 4 columns</p>\n",
              "</div>\n",
              "      <button class=\"colab-df-convert\" onclick=\"convertToInteractive('df-53245574-de5c-4f72-adb7-19d22a504e0b')\"\n",
              "              title=\"Convert this dataframe to an interactive table.\"\n",
              "              style=\"display:none;\">\n",
              "        \n",
              "  <svg xmlns=\"http://www.w3.org/2000/svg\" height=\"24px\"viewBox=\"0 0 24 24\"\n",
              "       width=\"24px\">\n",
              "    <path d=\"M0 0h24v24H0V0z\" fill=\"none\"/>\n",
              "    <path d=\"M18.56 5.44l.94 2.06.94-2.06 2.06-.94-2.06-.94-.94-2.06-.94 2.06-2.06.94zm-11 1L8.5 8.5l.94-2.06 2.06-.94-2.06-.94L8.5 2.5l-.94 2.06-2.06.94zm10 10l.94 2.06.94-2.06 2.06-.94-2.06-.94-.94-2.06-.94 2.06-2.06.94z\"/><path d=\"M17.41 7.96l-1.37-1.37c-.4-.4-.92-.59-1.43-.59-.52 0-1.04.2-1.43.59L10.3 9.45l-7.72 7.72c-.78.78-.78 2.05 0 2.83L4 21.41c.39.39.9.59 1.41.59.51 0 1.02-.2 1.41-.59l7.78-7.78 2.81-2.81c.8-.78.8-2.07 0-2.86zM5.41 20L4 18.59l7.72-7.72 1.47 1.35L5.41 20z\"/>\n",
              "  </svg>\n",
              "      </button>\n",
              "      \n",
              "  <style>\n",
              "    .colab-df-container {\n",
              "      display:flex;\n",
              "      flex-wrap:wrap;\n",
              "      gap: 12px;\n",
              "    }\n",
              "\n",
              "    .colab-df-convert {\n",
              "      background-color: #E8F0FE;\n",
              "      border: none;\n",
              "      border-radius: 50%;\n",
              "      cursor: pointer;\n",
              "      display: none;\n",
              "      fill: #1967D2;\n",
              "      height: 32px;\n",
              "      padding: 0 0 0 0;\n",
              "      width: 32px;\n",
              "    }\n",
              "\n",
              "    .colab-df-convert:hover {\n",
              "      background-color: #E2EBFA;\n",
              "      box-shadow: 0px 1px 2px rgba(60, 64, 67, 0.3), 0px 1px 3px 1px rgba(60, 64, 67, 0.15);\n",
              "      fill: #174EA6;\n",
              "    }\n",
              "\n",
              "    [theme=dark] .colab-df-convert {\n",
              "      background-color: #3B4455;\n",
              "      fill: #D2E3FC;\n",
              "    }\n",
              "\n",
              "    [theme=dark] .colab-df-convert:hover {\n",
              "      background-color: #434B5C;\n",
              "      box-shadow: 0px 1px 3px 1px rgba(0, 0, 0, 0.15);\n",
              "      filter: drop-shadow(0px 1px 2px rgba(0, 0, 0, 0.3));\n",
              "      fill: #FFFFFF;\n",
              "    }\n",
              "  </style>\n",
              "\n",
              "      <script>\n",
              "        const buttonEl =\n",
              "          document.querySelector('#df-53245574-de5c-4f72-adb7-19d22a504e0b button.colab-df-convert');\n",
              "        buttonEl.style.display =\n",
              "          google.colab.kernel.accessAllowed ? 'block' : 'none';\n",
              "\n",
              "        async function convertToInteractive(key) {\n",
              "          const element = document.querySelector('#df-53245574-de5c-4f72-adb7-19d22a504e0b');\n",
              "          const dataTable =\n",
              "            await google.colab.kernel.invokeFunction('convertToInteractive',\n",
              "                                                     [key], {});\n",
              "          if (!dataTable) return;\n",
              "\n",
              "          const docLinkHtml = 'Like what you see? Visit the ' +\n",
              "            '<a target=\"_blank\" href=https://colab.research.google.com/notebooks/data_table.ipynb>data table notebook</a>'\n",
              "            + ' to learn more about interactive tables.';\n",
              "          element.innerHTML = '';\n",
              "          dataTable['output_type'] = 'display_data';\n",
              "          await google.colab.output.renderOutput(dataTable, element);\n",
              "          const docLink = document.createElement('div');\n",
              "          docLink.innerHTML = docLinkHtml;\n",
              "          element.appendChild(docLink);\n",
              "        }\n",
              "      </script>\n",
              "    </div>\n",
              "  </div>\n",
              "  "
            ]
          },
          "metadata": {},
          "execution_count": 111
        }
      ]
    },
    {
      "cell_type": "code",
      "source": [
        "# Conditional by values\n",
        "assets.loc[assets[\"Close DJI30\"] > 15000]"
      ],
      "metadata": {
        "colab": {
          "base_uri": "https://localhost:8080/",
          "height": 455
        },
        "id": "wxcsaDGvwaUL",
        "outputId": "786022a1-211d-422b-a788-3910d616c7e3"
      },
      "execution_count": null,
      "outputs": [
        {
          "output_type": "execute_result",
          "data": {
            "text/plain": [
              "            Close DJI30 Close CAC40  Close SP500       SMA 15\n",
              "time                                                         \n",
              "2013-05-07   15056.2002   3921.3201    1625.9600  1583.837320\n",
              "2013-05-08   15105.1201   3956.2800    1632.6899  1587.711987\n",
              "2013-05-09   15082.6201   3928.5801    1626.6700  1592.689320\n",
              "2013-05-10   15118.4902   3953.8301    1633.7000  1598.828653\n",
              "2013-05-13   15091.6797   3945.2000    1633.7700  1604.063320\n",
              "...                 ...         ...          ...          ...\n",
              "2020-03-12   21200.6191   4044.2600    2420.8827  2445.100287\n",
              "2020-03-13   23185.6191   4118.3599    2418.0191  2444.029520\n",
              "2020-03-16   20188.5195   3881.4600    2426.6181  2443.003900\n",
              "2020-03-17   21237.3809   3991.7800    2436.5000  2442.964567\n",
              "2020-03-18   19898.9199   3754.8401    2398.1001  2440.551540\n",
              "\n",
              "[1687 rows x 4 columns]"
            ],
            "text/html": [
              "\n",
              "  <div id=\"df-60586785-7a08-4d8d-859f-0dfc5e486622\">\n",
              "    <div class=\"colab-df-container\">\n",
              "      <div>\n",
              "<style scoped>\n",
              "    .dataframe tbody tr th:only-of-type {\n",
              "        vertical-align: middle;\n",
              "    }\n",
              "\n",
              "    .dataframe tbody tr th {\n",
              "        vertical-align: top;\n",
              "    }\n",
              "\n",
              "    .dataframe thead th {\n",
              "        text-align: right;\n",
              "    }\n",
              "</style>\n",
              "<table border=\"1\" class=\"dataframe\">\n",
              "  <thead>\n",
              "    <tr style=\"text-align: right;\">\n",
              "      <th></th>\n",
              "      <th>Close DJI30</th>\n",
              "      <th>Close CAC40</th>\n",
              "      <th>Close SP500</th>\n",
              "      <th>SMA 15</th>\n",
              "    </tr>\n",
              "    <tr>\n",
              "      <th>time</th>\n",
              "      <th></th>\n",
              "      <th></th>\n",
              "      <th></th>\n",
              "      <th></th>\n",
              "    </tr>\n",
              "  </thead>\n",
              "  <tbody>\n",
              "    <tr>\n",
              "      <th>2013-05-07</th>\n",
              "      <td>15056.2002</td>\n",
              "      <td>3921.3201</td>\n",
              "      <td>1625.9600</td>\n",
              "      <td>1583.837320</td>\n",
              "    </tr>\n",
              "    <tr>\n",
              "      <th>2013-05-08</th>\n",
              "      <td>15105.1201</td>\n",
              "      <td>3956.2800</td>\n",
              "      <td>1632.6899</td>\n",
              "      <td>1587.711987</td>\n",
              "    </tr>\n",
              "    <tr>\n",
              "      <th>2013-05-09</th>\n",
              "      <td>15082.6201</td>\n",
              "      <td>3928.5801</td>\n",
              "      <td>1626.6700</td>\n",
              "      <td>1592.689320</td>\n",
              "    </tr>\n",
              "    <tr>\n",
              "      <th>2013-05-10</th>\n",
              "      <td>15118.4902</td>\n",
              "      <td>3953.8301</td>\n",
              "      <td>1633.7000</td>\n",
              "      <td>1598.828653</td>\n",
              "    </tr>\n",
              "    <tr>\n",
              "      <th>2013-05-13</th>\n",
              "      <td>15091.6797</td>\n",
              "      <td>3945.2000</td>\n",
              "      <td>1633.7700</td>\n",
              "      <td>1604.063320</td>\n",
              "    </tr>\n",
              "    <tr>\n",
              "      <th>...</th>\n",
              "      <td>...</td>\n",
              "      <td>...</td>\n",
              "      <td>...</td>\n",
              "      <td>...</td>\n",
              "    </tr>\n",
              "    <tr>\n",
              "      <th>2020-03-12</th>\n",
              "      <td>21200.6191</td>\n",
              "      <td>4044.2600</td>\n",
              "      <td>2420.8827</td>\n",
              "      <td>2445.100287</td>\n",
              "    </tr>\n",
              "    <tr>\n",
              "      <th>2020-03-13</th>\n",
              "      <td>23185.6191</td>\n",
              "      <td>4118.3599</td>\n",
              "      <td>2418.0191</td>\n",
              "      <td>2444.029520</td>\n",
              "    </tr>\n",
              "    <tr>\n",
              "      <th>2020-03-16</th>\n",
              "      <td>20188.5195</td>\n",
              "      <td>3881.4600</td>\n",
              "      <td>2426.6181</td>\n",
              "      <td>2443.003900</td>\n",
              "    </tr>\n",
              "    <tr>\n",
              "      <th>2020-03-17</th>\n",
              "      <td>21237.3809</td>\n",
              "      <td>3991.7800</td>\n",
              "      <td>2436.5000</td>\n",
              "      <td>2442.964567</td>\n",
              "    </tr>\n",
              "    <tr>\n",
              "      <th>2020-03-18</th>\n",
              "      <td>19898.9199</td>\n",
              "      <td>3754.8401</td>\n",
              "      <td>2398.1001</td>\n",
              "      <td>2440.551540</td>\n",
              "    </tr>\n",
              "  </tbody>\n",
              "</table>\n",
              "<p>1687 rows × 4 columns</p>\n",
              "</div>\n",
              "      <button class=\"colab-df-convert\" onclick=\"convertToInteractive('df-60586785-7a08-4d8d-859f-0dfc5e486622')\"\n",
              "              title=\"Convert this dataframe to an interactive table.\"\n",
              "              style=\"display:none;\">\n",
              "        \n",
              "  <svg xmlns=\"http://www.w3.org/2000/svg\" height=\"24px\"viewBox=\"0 0 24 24\"\n",
              "       width=\"24px\">\n",
              "    <path d=\"M0 0h24v24H0V0z\" fill=\"none\"/>\n",
              "    <path d=\"M18.56 5.44l.94 2.06.94-2.06 2.06-.94-2.06-.94-.94-2.06-.94 2.06-2.06.94zm-11 1L8.5 8.5l.94-2.06 2.06-.94-2.06-.94L8.5 2.5l-.94 2.06-2.06.94zm10 10l.94 2.06.94-2.06 2.06-.94-2.06-.94-.94-2.06-.94 2.06-2.06.94z\"/><path d=\"M17.41 7.96l-1.37-1.37c-.4-.4-.92-.59-1.43-.59-.52 0-1.04.2-1.43.59L10.3 9.45l-7.72 7.72c-.78.78-.78 2.05 0 2.83L4 21.41c.39.39.9.59 1.41.59.51 0 1.02-.2 1.41-.59l7.78-7.78 2.81-2.81c.8-.78.8-2.07 0-2.86zM5.41 20L4 18.59l7.72-7.72 1.47 1.35L5.41 20z\"/>\n",
              "  </svg>\n",
              "      </button>\n",
              "      \n",
              "  <style>\n",
              "    .colab-df-container {\n",
              "      display:flex;\n",
              "      flex-wrap:wrap;\n",
              "      gap: 12px;\n",
              "    }\n",
              "\n",
              "    .colab-df-convert {\n",
              "      background-color: #E8F0FE;\n",
              "      border: none;\n",
              "      border-radius: 50%;\n",
              "      cursor: pointer;\n",
              "      display: none;\n",
              "      fill: #1967D2;\n",
              "      height: 32px;\n",
              "      padding: 0 0 0 0;\n",
              "      width: 32px;\n",
              "    }\n",
              "\n",
              "    .colab-df-convert:hover {\n",
              "      background-color: #E2EBFA;\n",
              "      box-shadow: 0px 1px 2px rgba(60, 64, 67, 0.3), 0px 1px 3px 1px rgba(60, 64, 67, 0.15);\n",
              "      fill: #174EA6;\n",
              "    }\n",
              "\n",
              "    [theme=dark] .colab-df-convert {\n",
              "      background-color: #3B4455;\n",
              "      fill: #D2E3FC;\n",
              "    }\n",
              "\n",
              "    [theme=dark] .colab-df-convert:hover {\n",
              "      background-color: #434B5C;\n",
              "      box-shadow: 0px 1px 3px 1px rgba(0, 0, 0, 0.15);\n",
              "      filter: drop-shadow(0px 1px 2px rgba(0, 0, 0, 0.3));\n",
              "      fill: #FFFFFF;\n",
              "    }\n",
              "  </style>\n",
              "\n",
              "      <script>\n",
              "        const buttonEl =\n",
              "          document.querySelector('#df-60586785-7a08-4d8d-859f-0dfc5e486622 button.colab-df-convert');\n",
              "        buttonEl.style.display =\n",
              "          google.colab.kernel.accessAllowed ? 'block' : 'none';\n",
              "\n",
              "        async function convertToInteractive(key) {\n",
              "          const element = document.querySelector('#df-60586785-7a08-4d8d-859f-0dfc5e486622');\n",
              "          const dataTable =\n",
              "            await google.colab.kernel.invokeFunction('convertToInteractive',\n",
              "                                                     [key], {});\n",
              "          if (!dataTable) return;\n",
              "\n",
              "          const docLinkHtml = 'Like what you see? Visit the ' +\n",
              "            '<a target=\"_blank\" href=https://colab.research.google.com/notebooks/data_table.ipynb>data table notebook</a>'\n",
              "            + ' to learn more about interactive tables.';\n",
              "          element.innerHTML = '';\n",
              "          dataTable['output_type'] = 'display_data';\n",
              "          await google.colab.output.renderOutput(dataTable, element);\n",
              "          const docLink = document.createElement('div');\n",
              "          docLink.innerHTML = docLinkHtml;\n",
              "          element.appendChild(docLink);\n",
              "        }\n",
              "      </script>\n",
              "    </div>\n",
              "  </div>\n",
              "  "
            ]
          },
          "metadata": {},
          "execution_count": 113
        }
      ]
    },
    {
      "cell_type": "code",
      "source": [
        "# Concat some dataframes\n",
        "df1 = assets.iloc[1500:, :]\n",
        "df2 = assets.iloc[:1500, :]\n",
        "\n",
        "pd.concat((df1, df2), axis = 0)"
      ],
      "metadata": {
        "colab": {
          "base_uri": "https://localhost:8080/",
          "height": 455
        },
        "id": "Lqr6nsw0wblO",
        "outputId": "e140a101-c6f5-4c64-fb93-a0837117d613"
      },
      "execution_count": null,
      "outputs": [
        {
          "output_type": "execute_result",
          "data": {
            "text/plain": [
              "            Close DJI30 Close CAC40  Close SP500       SMA 15\n",
              "time                                                         \n",
              "2005-12-20   10805.5498   4703.4800    1259.6200  1262.400000\n",
              "2005-12-21   10833.7305   4752.4102    1262.7900  1263.287333\n",
              "2005-12-22   10889.4404   4751.9600    1268.1200  1263.517333\n",
              "2005-12-23   10883.2695   4757.7402    1268.6600  1263.756000\n",
              "2005-12-27   10777.7695   4769.3799    1256.5400  1263.386000\n",
              "...                 ...         ...          ...          ...\n",
              "2005-12-13   10823.7197   4693.3999    1267.4301  1261.032680\n",
              "2005-12-14   10883.5098   4674.8501    1272.7400  1261.800013\n",
              "2005-12-15   10881.6699   4673.1401    1270.9399  1262.155340\n",
              "2005-12-16   10875.5898   4704.4102    1267.3199  1262.093333\n",
              "2005-12-19   10836.5303   4694.8599    1259.9200  1262.257333\n",
              "\n",
              "[5047 rows x 4 columns]"
            ],
            "text/html": [
              "\n",
              "  <div id=\"df-b52262eb-a60c-43ae-8761-167c48bc5320\">\n",
              "    <div class=\"colab-df-container\">\n",
              "      <div>\n",
              "<style scoped>\n",
              "    .dataframe tbody tr th:only-of-type {\n",
              "        vertical-align: middle;\n",
              "    }\n",
              "\n",
              "    .dataframe tbody tr th {\n",
              "        vertical-align: top;\n",
              "    }\n",
              "\n",
              "    .dataframe thead th {\n",
              "        text-align: right;\n",
              "    }\n",
              "</style>\n",
              "<table border=\"1\" class=\"dataframe\">\n",
              "  <thead>\n",
              "    <tr style=\"text-align: right;\">\n",
              "      <th></th>\n",
              "      <th>Close DJI30</th>\n",
              "      <th>Close CAC40</th>\n",
              "      <th>Close SP500</th>\n",
              "      <th>SMA 15</th>\n",
              "    </tr>\n",
              "    <tr>\n",
              "      <th>time</th>\n",
              "      <th></th>\n",
              "      <th></th>\n",
              "      <th></th>\n",
              "      <th></th>\n",
              "    </tr>\n",
              "  </thead>\n",
              "  <tbody>\n",
              "    <tr>\n",
              "      <th>2005-12-20</th>\n",
              "      <td>10805.5498</td>\n",
              "      <td>4703.4800</td>\n",
              "      <td>1259.6200</td>\n",
              "      <td>1262.400000</td>\n",
              "    </tr>\n",
              "    <tr>\n",
              "      <th>2005-12-21</th>\n",
              "      <td>10833.7305</td>\n",
              "      <td>4752.4102</td>\n",
              "      <td>1262.7900</td>\n",
              "      <td>1263.287333</td>\n",
              "    </tr>\n",
              "    <tr>\n",
              "      <th>2005-12-22</th>\n",
              "      <td>10889.4404</td>\n",
              "      <td>4751.9600</td>\n",
              "      <td>1268.1200</td>\n",
              "      <td>1263.517333</td>\n",
              "    </tr>\n",
              "    <tr>\n",
              "      <th>2005-12-23</th>\n",
              "      <td>10883.2695</td>\n",
              "      <td>4757.7402</td>\n",
              "      <td>1268.6600</td>\n",
              "      <td>1263.756000</td>\n",
              "    </tr>\n",
              "    <tr>\n",
              "      <th>2005-12-27</th>\n",
              "      <td>10777.7695</td>\n",
              "      <td>4769.3799</td>\n",
              "      <td>1256.5400</td>\n",
              "      <td>1263.386000</td>\n",
              "    </tr>\n",
              "    <tr>\n",
              "      <th>...</th>\n",
              "      <td>...</td>\n",
              "      <td>...</td>\n",
              "      <td>...</td>\n",
              "      <td>...</td>\n",
              "    </tr>\n",
              "    <tr>\n",
              "      <th>2005-12-13</th>\n",
              "      <td>10823.7197</td>\n",
              "      <td>4693.3999</td>\n",
              "      <td>1267.4301</td>\n",
              "      <td>1261.032680</td>\n",
              "    </tr>\n",
              "    <tr>\n",
              "      <th>2005-12-14</th>\n",
              "      <td>10883.5098</td>\n",
              "      <td>4674.8501</td>\n",
              "      <td>1272.7400</td>\n",
              "      <td>1261.800013</td>\n",
              "    </tr>\n",
              "    <tr>\n",
              "      <th>2005-12-15</th>\n",
              "      <td>10881.6699</td>\n",
              "      <td>4673.1401</td>\n",
              "      <td>1270.9399</td>\n",
              "      <td>1262.155340</td>\n",
              "    </tr>\n",
              "    <tr>\n",
              "      <th>2005-12-16</th>\n",
              "      <td>10875.5898</td>\n",
              "      <td>4704.4102</td>\n",
              "      <td>1267.3199</td>\n",
              "      <td>1262.093333</td>\n",
              "    </tr>\n",
              "    <tr>\n",
              "      <th>2005-12-19</th>\n",
              "      <td>10836.5303</td>\n",
              "      <td>4694.8599</td>\n",
              "      <td>1259.9200</td>\n",
              "      <td>1262.257333</td>\n",
              "    </tr>\n",
              "  </tbody>\n",
              "</table>\n",
              "<p>5047 rows × 4 columns</p>\n",
              "</div>\n",
              "      <button class=\"colab-df-convert\" onclick=\"convertToInteractive('df-b52262eb-a60c-43ae-8761-167c48bc5320')\"\n",
              "              title=\"Convert this dataframe to an interactive table.\"\n",
              "              style=\"display:none;\">\n",
              "        \n",
              "  <svg xmlns=\"http://www.w3.org/2000/svg\" height=\"24px\"viewBox=\"0 0 24 24\"\n",
              "       width=\"24px\">\n",
              "    <path d=\"M0 0h24v24H0V0z\" fill=\"none\"/>\n",
              "    <path d=\"M18.56 5.44l.94 2.06.94-2.06 2.06-.94-2.06-.94-.94-2.06-.94 2.06-2.06.94zm-11 1L8.5 8.5l.94-2.06 2.06-.94-2.06-.94L8.5 2.5l-.94 2.06-2.06.94zm10 10l.94 2.06.94-2.06 2.06-.94-2.06-.94-.94-2.06-.94 2.06-2.06.94z\"/><path d=\"M17.41 7.96l-1.37-1.37c-.4-.4-.92-.59-1.43-.59-.52 0-1.04.2-1.43.59L10.3 9.45l-7.72 7.72c-.78.78-.78 2.05 0 2.83L4 21.41c.39.39.9.59 1.41.59.51 0 1.02-.2 1.41-.59l7.78-7.78 2.81-2.81c.8-.78.8-2.07 0-2.86zM5.41 20L4 18.59l7.72-7.72 1.47 1.35L5.41 20z\"/>\n",
              "  </svg>\n",
              "      </button>\n",
              "      \n",
              "  <style>\n",
              "    .colab-df-container {\n",
              "      display:flex;\n",
              "      flex-wrap:wrap;\n",
              "      gap: 12px;\n",
              "    }\n",
              "\n",
              "    .colab-df-convert {\n",
              "      background-color: #E8F0FE;\n",
              "      border: none;\n",
              "      border-radius: 50%;\n",
              "      cursor: pointer;\n",
              "      display: none;\n",
              "      fill: #1967D2;\n",
              "      height: 32px;\n",
              "      padding: 0 0 0 0;\n",
              "      width: 32px;\n",
              "    }\n",
              "\n",
              "    .colab-df-convert:hover {\n",
              "      background-color: #E2EBFA;\n",
              "      box-shadow: 0px 1px 2px rgba(60, 64, 67, 0.3), 0px 1px 3px 1px rgba(60, 64, 67, 0.15);\n",
              "      fill: #174EA6;\n",
              "    }\n",
              "\n",
              "    [theme=dark] .colab-df-convert {\n",
              "      background-color: #3B4455;\n",
              "      fill: #D2E3FC;\n",
              "    }\n",
              "\n",
              "    [theme=dark] .colab-df-convert:hover {\n",
              "      background-color: #434B5C;\n",
              "      box-shadow: 0px 1px 3px 1px rgba(0, 0, 0, 0.15);\n",
              "      filter: drop-shadow(0px 1px 2px rgba(0, 0, 0, 0.3));\n",
              "      fill: #FFFFFF;\n",
              "    }\n",
              "  </style>\n",
              "\n",
              "      <script>\n",
              "        const buttonEl =\n",
              "          document.querySelector('#df-b52262eb-a60c-43ae-8761-167c48bc5320 button.colab-df-convert');\n",
              "        buttonEl.style.display =\n",
              "          google.colab.kernel.accessAllowed ? 'block' : 'none';\n",
              "\n",
              "        async function convertToInteractive(key) {\n",
              "          const element = document.querySelector('#df-b52262eb-a60c-43ae-8761-167c48bc5320');\n",
              "          const dataTable =\n",
              "            await google.colab.kernel.invokeFunction('convertToInteractive',\n",
              "                                                     [key], {});\n",
              "          if (!dataTable) return;\n",
              "\n",
              "          const docLinkHtml = 'Like what you see? Visit the ' +\n",
              "            '<a target=\"_blank\" href=https://colab.research.google.com/notebooks/data_table.ipynb>data table notebook</a>'\n",
              "            + ' to learn more about interactive tables.';\n",
              "          element.innerHTML = '';\n",
              "          dataTable['output_type'] = 'display_data';\n",
              "          await google.colab.output.renderOutput(dataTable, element);\n",
              "          const docLink = document.createElement('div');\n",
              "          docLink.innerHTML = docLinkHtml;\n",
              "          element.appendChild(docLink);\n",
              "        }\n",
              "      </script>\n",
              "    </div>\n",
              "  </div>\n",
              "  "
            ]
          },
          "metadata": {},
          "execution_count": 117
        }
      ]
    },
    {
      "cell_type": "markdown",
      "source": [
        "# Matplotlib"
      ],
      "metadata": {
        "id": "X4nZTDDexSqO"
      }
    },
    {
      "cell_type": "code",
      "source": [
        "import matplotlib.pyplot as plt\n",
        "import numpy as np"
      ],
      "metadata": {
        "id": "KiP29qaoxDC9"
      },
      "execution_count": null,
      "outputs": []
    },
    {
      "cell_type": "code",
      "source": [
        "import matplotlib as mpl\n",
        "from matplotlib import cycler\n",
        "\n",
        "colors = cycler('color',\n",
        "                ['#669FEE', '#66EE91', '#9988DD',\n",
        "                 '#EECC55', '#88BB44', '#FFBBBB'])\n",
        "plt.rc('figure', facecolor = '#313233')\n",
        "plt.rc('axes', facecolor = '#313233', edgecolor = 'none',\n",
        "       axisbelow = True, grid = True, prop_cycle = colors,\n",
        "       labelcolor = 'gray')\n",
        "\n",
        "plt.rc('grid', color = '474A4A', linestyle = 'solid')\n",
        "plt.rc('xtick', color = 'gray')\n",
        "plt.rc('ytick', direction = 'out', color = 'gray')\n",
        "plt.rc('legend', facecolor = '#313233', edgecolor = '#313233')\n",
        "plt.rc('text', color = '#C9C9C9')\n",
        "plt.rc('figure', facecolor = \"#313233\")"
      ],
      "metadata": {
        "id": "3OmngQylhfUo"
      },
      "execution_count": null,
      "outputs": []
    },
    {
      "cell_type": "markdown",
      "source": [
        "# Graphs"
      ],
      "metadata": {
        "id": "Kr9vC-4Ujw2O"
      }
    },
    {
      "cell_type": "code",
      "source": [
        "# Data simulation\n",
        "arr = np.random.randint(0, 15, size = (15,))\n",
        "\n",
        "# Square of arr\n",
        "square = arr ** 2\n",
        "\n",
        "# Multiplication of arr\n",
        "mut = arr * 3\n",
        "\n",
        "print(arr)\n",
        "\n",
        "print(square)\n",
        "\n",
        "print(mut)"
      ],
      "metadata": {
        "colab": {
          "base_uri": "https://localhost:8080/"
        },
        "id": "0gju2G-yjfK2",
        "outputId": "c3ed4038-ae50-4446-fa2f-a7ae29c14d74"
      },
      "execution_count": null,
      "outputs": [
        {
          "output_type": "stream",
          "name": "stdout",
          "text": [
            "[ 3  8  7  1  3  2  9 14  9  7 13  5  8  9  1]\n",
            "[  9  64  49   1   9   4  81 196  81  49 169  25  64  81   1]\n",
            "[ 9 24 21  3  9  6 27 42 27 21 39 15 24 27  3]\n"
          ]
        }
      ]
    },
    {
      "cell_type": "code",
      "source": [
        "# Plot the data\n",
        "plt.plot(arr)\n",
        "plt.plot(square)\n",
        "plt.plot(mut)\n",
        "\n",
        "# Change the xlabel\n",
        "plt.xlabel(\"Random Numbers\")\n",
        "\n",
        "# Change the ylabel\n",
        "plt.ylabel(\"Values\")\n",
        "\n",
        "# Change the title\n",
        "plt.title(\"Graph\")\n",
        "\n",
        "# Put a legend\n",
        "plt.legend([\"Normal\", \"Square\", \"Multiplication\"])\n",
        "\n",
        "# Show the chart\n",
        "plt.show()"
      ],
      "metadata": {
        "colab": {
          "base_uri": "https://localhost:8080/",
          "height": 295
        },
        "id": "Yu6Zi31dkC9Y",
        "outputId": "f0a99b4a-26ae-4d3f-87cf-c9639cd8b74c"
      },
      "execution_count": null,
      "outputs": [
        {
          "output_type": "display_data",
          "data": {
            "text/plain": [
              "<Figure size 432x288 with 1 Axes>"
            ],
            "image/png": "[encoded data removed]"
          },
          "metadata": {}
        }
      ]
    },
    {
      "cell_type": "markdown",
      "source": [
        "# Scatter"
      ],
      "metadata": {
        "id": "jrNGUJ_Bk7SX"
      }
    },
    {
      "cell_type": "code",
      "source": [
        "# Point clouds\n",
        "plt.scatter(arr, mut)\n",
        "plt.scatter(arr, square)\n",
        "\n",
        "# Change the xlabel\n",
        "plt.xlabel(\"Random Numbers\")\n",
        "\n",
        "# Change the ylabel\n",
        "plt.ylabel(\"Values\")\n",
        "\n",
        "# Change the title\n",
        "plt.title(\"Scatter\")\n",
        "\n",
        "# Put a legend\n",
        "plt.legend([\"Square\", \"Exp\"])\n",
        "\n",
        "# Show the plot\n",
        "plt.show()"
      ],
      "metadata": {
        "colab": {
          "base_uri": "https://localhost:8080/",
          "height": 295
        },
        "id": "GPzHIdeEkcdz",
        "outputId": "5cd75680-961d-4ea2-b462-784927a8cb03"
      },
      "execution_count": null,
      "outputs": [
        {
          "output_type": "display_data",
          "data": {
            "text/plain": [
              "<Figure size 432x288 with 1 Axes>"
            ],
            "image/png": "[encoded data removed]"
          },
          "metadata": {}
        }
      ]
    },
    {
      "cell_type": "markdown",
      "source": [
        "# Tools"
      ],
      "metadata": {
        "id": "IBgX_SBjlz96"
      }
    },
    {
      "cell_type": "code",
      "source": [
        "# Adapt the size\n",
        "plt.figure(figsize = (15, 8))\n",
        "\n",
        "# Plot the line\n",
        "plt.plot(arr, alpha = 0.6)\n",
        "\n",
        "# Plot the line\n",
        "plt.plot(square, \"-o\", linewidth = 3)\n",
        "\n",
        "# Plot the line\n",
        "plt.plot(mut, 'o')\n",
        "\n",
        "# Change the ylabel\n",
        "plt.ylabel(\"Values\")\n",
        "\n",
        "# Change the title\n",
        "plt.title(\"Graph\")\n",
        "\n",
        "# Put a legend\n",
        "plt.legend(['Normal', 'Square', 'Multiplication'])\n",
        "\n",
        "# Show the plot\n",
        "plt.show()"
      ],
      "metadata": {
        "colab": {
          "base_uri": "https://localhost:8080/",
          "height": 499
        },
        "id": "leomjDUjlpR6",
        "outputId": "12f5c74a-e03c-4120-9a09-8048371669d0"
      },
      "execution_count": null,
      "outputs": [
        {
          "output_type": "display_data",
          "data": {
            "text/plain": [
              "<Figure size 1080x576 with 1 Axes>"
            ],
            "image/png": "[encoded data removed]"
          },
          "metadata": {}
        }
      ]
    },
    {
      "cell_type": "code",
      "source": [],
      "metadata": {
        "id": "mL6xnKdNmsVK"
      },
      "execution_count": null,
      "outputs": []
    }
  ]
}